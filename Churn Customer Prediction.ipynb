{
 "cells": [
  {
   "cell_type": "code",
   "execution_count": 1,
   "id": "2f643d10",
   "metadata": {},
   "outputs": [],
   "source": [
    "import pandas as pd\n",
    "import numpy as np\n",
    "import matplotlib.pyplot as plt\n",
    "from sklearn.preprocessing import LabelEncoder\n",
    "import seaborn as sns"
   ]
  },
  {
   "cell_type": "code",
   "execution_count": 2,
   "id": "9fbfe2c1",
   "metadata": {},
   "outputs": [],
   "source": [
    "df=pd.read_excel('Customer Churn Data1.xlsx',sheet_name='raj')"
   ]
  },
  {
   "cell_type": "code",
   "execution_count": 3,
   "id": "2a025b13",
   "metadata": {},
   "outputs": [
    {
     "data": {
      "text/html": [
       "<div>\n",
       "<style scoped>\n",
       "    .dataframe tbody tr th:only-of-type {\n",
       "        vertical-align: middle;\n",
       "    }\n",
       "\n",
       "    .dataframe tbody tr th {\n",
       "        vertical-align: top;\n",
       "    }\n",
       "\n",
       "    .dataframe thead th {\n",
       "        text-align: right;\n",
       "    }\n",
       "</style>\n",
       "<table border=\"1\" class=\"dataframe\">\n",
       "  <thead>\n",
       "    <tr style=\"text-align: right;\">\n",
       "      <th></th>\n",
       "      <th>AccountID</th>\n",
       "      <th>Churn</th>\n",
       "      <th>Tenure</th>\n",
       "      <th>City_Tier</th>\n",
       "      <th>CC_Contacted_LY</th>\n",
       "      <th>Payment</th>\n",
       "      <th>Gender</th>\n",
       "      <th>Service_Score</th>\n",
       "      <th>Account_user_count</th>\n",
       "      <th>account_segment</th>\n",
       "      <th>CC_Agent_Score</th>\n",
       "      <th>Marital_Status</th>\n",
       "      <th>rev_per_month</th>\n",
       "      <th>Complain_ly</th>\n",
       "      <th>rev_growth_yoy</th>\n",
       "      <th>coupon_used_for_payment</th>\n",
       "      <th>Day_Since_CC_connect</th>\n",
       "      <th>cashback</th>\n",
       "      <th>Login_device</th>\n",
       "    </tr>\n",
       "  </thead>\n",
       "  <tbody>\n",
       "    <tr>\n",
       "      <th>0</th>\n",
       "      <td>20000</td>\n",
       "      <td>1</td>\n",
       "      <td>4</td>\n",
       "      <td>3.0</td>\n",
       "      <td>6.0</td>\n",
       "      <td>Debit Card</td>\n",
       "      <td>Female</td>\n",
       "      <td>3.0</td>\n",
       "      <td>3</td>\n",
       "      <td>Super</td>\n",
       "      <td>2.0</td>\n",
       "      <td>Single</td>\n",
       "      <td>9</td>\n",
       "      <td>1.0</td>\n",
       "      <td>11</td>\n",
       "      <td>1</td>\n",
       "      <td>5</td>\n",
       "      <td>159.93</td>\n",
       "      <td>Mobile</td>\n",
       "    </tr>\n",
       "    <tr>\n",
       "      <th>1</th>\n",
       "      <td>20001</td>\n",
       "      <td>1</td>\n",
       "      <td>0</td>\n",
       "      <td>1.0</td>\n",
       "      <td>8.0</td>\n",
       "      <td>UPI</td>\n",
       "      <td>Male</td>\n",
       "      <td>3.0</td>\n",
       "      <td>4</td>\n",
       "      <td>Regular Plus</td>\n",
       "      <td>3.0</td>\n",
       "      <td>Single</td>\n",
       "      <td>7</td>\n",
       "      <td>1.0</td>\n",
       "      <td>15</td>\n",
       "      <td>0</td>\n",
       "      <td>0</td>\n",
       "      <td>120.9</td>\n",
       "      <td>Mobile</td>\n",
       "    </tr>\n",
       "    <tr>\n",
       "      <th>2</th>\n",
       "      <td>20002</td>\n",
       "      <td>1</td>\n",
       "      <td>0</td>\n",
       "      <td>1.0</td>\n",
       "      <td>30.0</td>\n",
       "      <td>Debit Card</td>\n",
       "      <td>Male</td>\n",
       "      <td>2.0</td>\n",
       "      <td>4</td>\n",
       "      <td>Regular Plus</td>\n",
       "      <td>3.0</td>\n",
       "      <td>Single</td>\n",
       "      <td>6</td>\n",
       "      <td>1.0</td>\n",
       "      <td>14</td>\n",
       "      <td>0</td>\n",
       "      <td>3</td>\n",
       "      <td>NaN</td>\n",
       "      <td>Mobile</td>\n",
       "    </tr>\n",
       "    <tr>\n",
       "      <th>3</th>\n",
       "      <td>20003</td>\n",
       "      <td>1</td>\n",
       "      <td>0</td>\n",
       "      <td>3.0</td>\n",
       "      <td>15.0</td>\n",
       "      <td>Debit Card</td>\n",
       "      <td>Male</td>\n",
       "      <td>2.0</td>\n",
       "      <td>4</td>\n",
       "      <td>Super</td>\n",
       "      <td>5.0</td>\n",
       "      <td>Single</td>\n",
       "      <td>8</td>\n",
       "      <td>0.0</td>\n",
       "      <td>23</td>\n",
       "      <td>0</td>\n",
       "      <td>3</td>\n",
       "      <td>134.07</td>\n",
       "      <td>Mobile</td>\n",
       "    </tr>\n",
       "    <tr>\n",
       "      <th>4</th>\n",
       "      <td>20004</td>\n",
       "      <td>1</td>\n",
       "      <td>0</td>\n",
       "      <td>1.0</td>\n",
       "      <td>12.0</td>\n",
       "      <td>Credit Card</td>\n",
       "      <td>Male</td>\n",
       "      <td>2.0</td>\n",
       "      <td>3</td>\n",
       "      <td>Regular Plus</td>\n",
       "      <td>5.0</td>\n",
       "      <td>Single</td>\n",
       "      <td>3</td>\n",
       "      <td>0.0</td>\n",
       "      <td>11</td>\n",
       "      <td>1</td>\n",
       "      <td>3</td>\n",
       "      <td>129.6</td>\n",
       "      <td>Mobile</td>\n",
       "    </tr>\n",
       "    <tr>\n",
       "      <th>...</th>\n",
       "      <td>...</td>\n",
       "      <td>...</td>\n",
       "      <td>...</td>\n",
       "      <td>...</td>\n",
       "      <td>...</td>\n",
       "      <td>...</td>\n",
       "      <td>...</td>\n",
       "      <td>...</td>\n",
       "      <td>...</td>\n",
       "      <td>...</td>\n",
       "      <td>...</td>\n",
       "      <td>...</td>\n",
       "      <td>...</td>\n",
       "      <td>...</td>\n",
       "      <td>...</td>\n",
       "      <td>...</td>\n",
       "      <td>...</td>\n",
       "      <td>...</td>\n",
       "      <td>...</td>\n",
       "    </tr>\n",
       "    <tr>\n",
       "      <th>11255</th>\n",
       "      <td>31255</td>\n",
       "      <td>0</td>\n",
       "      <td>10</td>\n",
       "      <td>1.0</td>\n",
       "      <td>34.0</td>\n",
       "      <td>Credit Card</td>\n",
       "      <td>Male</td>\n",
       "      <td>3.0</td>\n",
       "      <td>2</td>\n",
       "      <td>Super</td>\n",
       "      <td>1.0</td>\n",
       "      <td>Married</td>\n",
       "      <td>9</td>\n",
       "      <td>0.0</td>\n",
       "      <td>19</td>\n",
       "      <td>1</td>\n",
       "      <td>4</td>\n",
       "      <td>153.71</td>\n",
       "      <td>Computer</td>\n",
       "    </tr>\n",
       "    <tr>\n",
       "      <th>11256</th>\n",
       "      <td>31256</td>\n",
       "      <td>0</td>\n",
       "      <td>13</td>\n",
       "      <td>1.0</td>\n",
       "      <td>19.0</td>\n",
       "      <td>Credit Card</td>\n",
       "      <td>Male</td>\n",
       "      <td>3.0</td>\n",
       "      <td>5</td>\n",
       "      <td>HNI</td>\n",
       "      <td>5.0</td>\n",
       "      <td>Married</td>\n",
       "      <td>7</td>\n",
       "      <td>0.0</td>\n",
       "      <td>16</td>\n",
       "      <td>1</td>\n",
       "      <td>8</td>\n",
       "      <td>226.91</td>\n",
       "      <td>Mobile</td>\n",
       "    </tr>\n",
       "    <tr>\n",
       "      <th>11257</th>\n",
       "      <td>31257</td>\n",
       "      <td>0</td>\n",
       "      <td>1</td>\n",
       "      <td>1.0</td>\n",
       "      <td>14.0</td>\n",
       "      <td>Debit Card</td>\n",
       "      <td>Male</td>\n",
       "      <td>3.0</td>\n",
       "      <td>2</td>\n",
       "      <td>Super</td>\n",
       "      <td>4.0</td>\n",
       "      <td>Married</td>\n",
       "      <td>7</td>\n",
       "      <td>1.0</td>\n",
       "      <td>22</td>\n",
       "      <td>1</td>\n",
       "      <td>4</td>\n",
       "      <td>191.42</td>\n",
       "      <td>Mobile</td>\n",
       "    </tr>\n",
       "    <tr>\n",
       "      <th>11258</th>\n",
       "      <td>31258</td>\n",
       "      <td>0</td>\n",
       "      <td>23</td>\n",
       "      <td>3.0</td>\n",
       "      <td>11.0</td>\n",
       "      <td>Credit Card</td>\n",
       "      <td>Male</td>\n",
       "      <td>4.0</td>\n",
       "      <td>5</td>\n",
       "      <td>Super</td>\n",
       "      <td>4.0</td>\n",
       "      <td>Married</td>\n",
       "      <td>7</td>\n",
       "      <td>0.0</td>\n",
       "      <td>16</td>\n",
       "      <td>2</td>\n",
       "      <td>9</td>\n",
       "      <td>179.9</td>\n",
       "      <td>Computer</td>\n",
       "    </tr>\n",
       "    <tr>\n",
       "      <th>11259</th>\n",
       "      <td>31259</td>\n",
       "      <td>0</td>\n",
       "      <td>8</td>\n",
       "      <td>1.0</td>\n",
       "      <td>22.0</td>\n",
       "      <td>Credit Card</td>\n",
       "      <td>Male</td>\n",
       "      <td>3.0</td>\n",
       "      <td>2</td>\n",
       "      <td>Super</td>\n",
       "      <td>3.0</td>\n",
       "      <td>Married</td>\n",
       "      <td>5</td>\n",
       "      <td>0.0</td>\n",
       "      <td>13</td>\n",
       "      <td>2</td>\n",
       "      <td>3</td>\n",
       "      <td>175.04</td>\n",
       "      <td>Mobile</td>\n",
       "    </tr>\n",
       "  </tbody>\n",
       "</table>\n",
       "<p>11260 rows × 19 columns</p>\n",
       "</div>"
      ],
      "text/plain": [
       "       AccountID  Churn Tenure  City_Tier  CC_Contacted_LY      Payment  \\\n",
       "0          20000      1      4        3.0              6.0   Debit Card   \n",
       "1          20001      1      0        1.0              8.0          UPI   \n",
       "2          20002      1      0        1.0             30.0   Debit Card   \n",
       "3          20003      1      0        3.0             15.0   Debit Card   \n",
       "4          20004      1      0        1.0             12.0  Credit Card   \n",
       "...          ...    ...    ...        ...              ...          ...   \n",
       "11255      31255      0     10        1.0             34.0  Credit Card   \n",
       "11256      31256      0     13        1.0             19.0  Credit Card   \n",
       "11257      31257      0      1        1.0             14.0   Debit Card   \n",
       "11258      31258      0     23        3.0             11.0  Credit Card   \n",
       "11259      31259      0      8        1.0             22.0  Credit Card   \n",
       "\n",
       "       Gender  Service_Score Account_user_count account_segment  \\\n",
       "0      Female            3.0                  3           Super   \n",
       "1        Male            3.0                  4    Regular Plus   \n",
       "2        Male            2.0                  4    Regular Plus   \n",
       "3        Male            2.0                  4           Super   \n",
       "4        Male            2.0                  3    Regular Plus   \n",
       "...       ...            ...                ...             ...   \n",
       "11255    Male            3.0                  2           Super   \n",
       "11256    Male            3.0                  5             HNI   \n",
       "11257    Male            3.0                  2           Super   \n",
       "11258    Male            4.0                  5           Super   \n",
       "11259    Male            3.0                  2           Super   \n",
       "\n",
       "       CC_Agent_Score Marital_Status rev_per_month  Complain_ly  \\\n",
       "0                 2.0         Single             9          1.0   \n",
       "1                 3.0         Single             7          1.0   \n",
       "2                 3.0         Single             6          1.0   \n",
       "3                 5.0         Single             8          0.0   \n",
       "4                 5.0         Single             3          0.0   \n",
       "...               ...            ...           ...          ...   \n",
       "11255             1.0        Married             9          0.0   \n",
       "11256             5.0        Married             7          0.0   \n",
       "11257             4.0        Married             7          1.0   \n",
       "11258             4.0        Married             7          0.0   \n",
       "11259             3.0        Married             5          0.0   \n",
       "\n",
       "      rev_growth_yoy coupon_used_for_payment Day_Since_CC_connect cashback  \\\n",
       "0                 11                       1                    5   159.93   \n",
       "1                 15                       0                    0    120.9   \n",
       "2                 14                       0                    3      NaN   \n",
       "3                 23                       0                    3   134.07   \n",
       "4                 11                       1                    3    129.6   \n",
       "...              ...                     ...                  ...      ...   \n",
       "11255             19                       1                    4   153.71   \n",
       "11256             16                       1                    8   226.91   \n",
       "11257             22                       1                    4   191.42   \n",
       "11258             16                       2                    9    179.9   \n",
       "11259             13                       2                    3   175.04   \n",
       "\n",
       "      Login_device  \n",
       "0           Mobile  \n",
       "1           Mobile  \n",
       "2           Mobile  \n",
       "3           Mobile  \n",
       "4           Mobile  \n",
       "...            ...  \n",
       "11255     Computer  \n",
       "11256       Mobile  \n",
       "11257       Mobile  \n",
       "11258     Computer  \n",
       "11259       Mobile  \n",
       "\n",
       "[11260 rows x 19 columns]"
      ]
     },
     "execution_count": 3,
     "metadata": {},
     "output_type": "execute_result"
    }
   ],
   "source": [
    "df"
   ]
  },
  {
   "cell_type": "code",
   "execution_count": 4,
   "id": "1a723bea",
   "metadata": {},
   "outputs": [
    {
     "data": {
      "text/plain": [
       "(11260, 19)"
      ]
     },
     "execution_count": 4,
     "metadata": {},
     "output_type": "execute_result"
    }
   ],
   "source": [
    "df.shape"
   ]
  },
  {
   "cell_type": "code",
   "execution_count": 5,
   "id": "c75ecce4",
   "metadata": {},
   "outputs": [
    {
     "name": "stdout",
     "output_type": "stream",
     "text": [
      "<class 'pandas.core.frame.DataFrame'>\n",
      "RangeIndex: 11260 entries, 0 to 11259\n",
      "Data columns (total 19 columns):\n",
      " #   Column                   Non-Null Count  Dtype  \n",
      "---  ------                   --------------  -----  \n",
      " 0   AccountID                11260 non-null  int64  \n",
      " 1   Churn                    11260 non-null  int64  \n",
      " 2   Tenure                   11158 non-null  object \n",
      " 3   City_Tier                11148 non-null  float64\n",
      " 4   CC_Contacted_LY          11158 non-null  float64\n",
      " 5   Payment                  11151 non-null  object \n",
      " 6   Gender                   11152 non-null  object \n",
      " 7   Service_Score            11162 non-null  float64\n",
      " 8   Account_user_count       11148 non-null  object \n",
      " 9   account_segment          11163 non-null  object \n",
      " 10  CC_Agent_Score           11144 non-null  float64\n",
      " 11  Marital_Status           11048 non-null  object \n",
      " 12  rev_per_month            11158 non-null  object \n",
      " 13  Complain_ly              10903 non-null  float64\n",
      " 14  rev_growth_yoy           11260 non-null  object \n",
      " 15  coupon_used_for_payment  11260 non-null  object \n",
      " 16  Day_Since_CC_connect     10903 non-null  object \n",
      " 17  cashback                 10789 non-null  object \n",
      " 18  Login_device             11039 non-null  object \n",
      "dtypes: float64(5), int64(2), object(12)\n",
      "memory usage: 1.6+ MB\n"
     ]
    }
   ],
   "source": [
    "df.info()"
   ]
  },
  {
   "cell_type": "code",
   "execution_count": 6,
   "id": "2cfae5bb",
   "metadata": {},
   "outputs": [
    {
     "data": {
      "text/plain": [
       "AccountID                    int64\n",
       "Churn                        int64\n",
       "Tenure                      object\n",
       "City_Tier                  float64\n",
       "CC_Contacted_LY            float64\n",
       "Payment                     object\n",
       "Gender                      object\n",
       "Service_Score              float64\n",
       "Account_user_count          object\n",
       "account_segment             object\n",
       "CC_Agent_Score             float64\n",
       "Marital_Status              object\n",
       "rev_per_month               object\n",
       "Complain_ly                float64\n",
       "rev_growth_yoy              object\n",
       "coupon_used_for_payment     object\n",
       "Day_Since_CC_connect        object\n",
       "cashback                    object\n",
       "Login_device                object\n",
       "dtype: object"
      ]
     },
     "execution_count": 6,
     "metadata": {},
     "output_type": "execute_result"
    }
   ],
   "source": [
    "df.dtypes"
   ]
  },
  {
   "cell_type": "code",
   "execution_count": 7,
   "id": "d9980bad",
   "metadata": {},
   "outputs": [
    {
     "data": {
      "text/plain": [
       "AccountID                    0\n",
       "Churn                        0\n",
       "Tenure                     102\n",
       "City_Tier                  112\n",
       "CC_Contacted_LY            102\n",
       "Payment                    109\n",
       "Gender                     108\n",
       "Service_Score               98\n",
       "Account_user_count         112\n",
       "account_segment             97\n",
       "CC_Agent_Score             116\n",
       "Marital_Status             212\n",
       "rev_per_month              102\n",
       "Complain_ly                357\n",
       "rev_growth_yoy               0\n",
       "coupon_used_for_payment      0\n",
       "Day_Since_CC_connect       357\n",
       "cashback                   471\n",
       "Login_device               221\n",
       "dtype: int64"
      ]
     },
     "execution_count": 7,
     "metadata": {},
     "output_type": "execute_result"
    }
   ],
   "source": [
    "df.isnull().sum()"
   ]
  },
  {
   "cell_type": "code",
   "execution_count": 8,
   "id": "4ef5e8b2",
   "metadata": {},
   "outputs": [
    {
     "data": {
      "text/plain": [
       "Index(['AccountID', 'Churn', 'Tenure', 'City_Tier', 'CC_Contacted_LY',\n",
       "       'Payment', 'Gender', 'Service_Score', 'Account_user_count',\n",
       "       'account_segment', 'CC_Agent_Score', 'Marital_Status', 'rev_per_month',\n",
       "       'Complain_ly', 'rev_growth_yoy', 'coupon_used_for_payment',\n",
       "       'Day_Since_CC_connect', 'cashback', 'Login_device'],\n",
       "      dtype='object')"
      ]
     },
     "execution_count": 8,
     "metadata": {},
     "output_type": "execute_result"
    }
   ],
   "source": [
    "columns_all = df.columns\n",
    "columns_all"
   ]
  },
  {
   "cell_type": "code",
   "execution_count": 9,
   "id": "0ab7ab88",
   "metadata": {},
   "outputs": [
    {
     "data": {
      "text/plain": [
       "Index(['Tenure', 'Payment', 'Gender', 'Account_user_count', 'account_segment',\n",
       "       'Marital_Status', 'rev_per_month', 'rev_growth_yoy',\n",
       "       'coupon_used_for_payment', 'Day_Since_CC_connect', 'cashback',\n",
       "       'Login_device'],\n",
       "      dtype='object')"
      ]
     },
     "execution_count": 9,
     "metadata": {},
     "output_type": "execute_result"
    }
   ],
   "source": [
    "categorical_feature = df.select_dtypes(include=['object']).columns #select categorical column\n",
    "categorical_feature"
   ]
  },
  {
   "cell_type": "code",
   "execution_count": 10,
   "id": "9c58d5b9",
   "metadata": {},
   "outputs": [],
   "source": [
    "for feature in categorical_feature:\n",
    "    mode = df[feature].mode().values[0]\n",
    "    df[feature].fillna(mode, inplace=True)"
   ]
  },
  {
   "cell_type": "code",
   "execution_count": 11,
   "id": "f7498202",
   "metadata": {},
   "outputs": [
    {
     "data": {
      "text/plain": [
       "['AccountID',\n",
       " 'Churn',\n",
       " 'City_Tier',\n",
       " 'CC_Contacted_LY',\n",
       " 'Service_Score',\n",
       " 'CC_Agent_Score',\n",
       " 'Complain_ly']"
      ]
     },
     "execution_count": 11,
     "metadata": {},
     "output_type": "execute_result"
    }
   ],
   "source": [
    "numerical_features = [col for col in columns_all if col not in categorical_feature] #select numerical column\n",
    "numerical_features"
   ]
  },
  {
   "cell_type": "code",
   "execution_count": 12,
   "id": "0be0d7ce",
   "metadata": {},
   "outputs": [],
   "source": [
    "# Impute null values with the median\n",
    "for feature in numerical_features:\n",
    "    median = df[feature].median()\n",
    "    df[feature].fillna(median, inplace=True)"
   ]
  },
  {
   "cell_type": "code",
   "execution_count": 13,
   "id": "975f6836",
   "metadata": {},
   "outputs": [
    {
     "data": {
      "text/plain": [
       "AccountID                  0\n",
       "Churn                      0\n",
       "Tenure                     0\n",
       "City_Tier                  0\n",
       "CC_Contacted_LY            0\n",
       "Payment                    0\n",
       "Gender                     0\n",
       "Service_Score              0\n",
       "Account_user_count         0\n",
       "account_segment            0\n",
       "CC_Agent_Score             0\n",
       "Marital_Status             0\n",
       "rev_per_month              0\n",
       "Complain_ly                0\n",
       "rev_growth_yoy             0\n",
       "coupon_used_for_payment    0\n",
       "Day_Since_CC_connect       0\n",
       "cashback                   0\n",
       "Login_device               0\n",
       "dtype: int64"
      ]
     },
     "execution_count": 13,
     "metadata": {},
     "output_type": "execute_result"
    }
   ],
   "source": [
    "df.isnull().sum()"
   ]
  },
  {
   "cell_type": "code",
   "execution_count": 14,
   "id": "134576cf",
   "metadata": {},
   "outputs": [
    {
     "data": {
      "text/html": [
       "<div>\n",
       "<style scoped>\n",
       "    .dataframe tbody tr th:only-of-type {\n",
       "        vertical-align: middle;\n",
       "    }\n",
       "\n",
       "    .dataframe tbody tr th {\n",
       "        vertical-align: top;\n",
       "    }\n",
       "\n",
       "    .dataframe thead th {\n",
       "        text-align: right;\n",
       "    }\n",
       "</style>\n",
       "<table border=\"1\" class=\"dataframe\">\n",
       "  <thead>\n",
       "    <tr style=\"text-align: right;\">\n",
       "      <th></th>\n",
       "      <th>count</th>\n",
       "      <th>unique</th>\n",
       "      <th>top</th>\n",
       "      <th>freq</th>\n",
       "      <th>mean</th>\n",
       "      <th>std</th>\n",
       "      <th>min</th>\n",
       "      <th>25%</th>\n",
       "      <th>50%</th>\n",
       "      <th>75%</th>\n",
       "      <th>max</th>\n",
       "    </tr>\n",
       "  </thead>\n",
       "  <tbody>\n",
       "    <tr>\n",
       "      <th>AccountID</th>\n",
       "      <td>11260.0</td>\n",
       "      <td>NaN</td>\n",
       "      <td>NaN</td>\n",
       "      <td>NaN</td>\n",
       "      <td>25629.5</td>\n",
       "      <td>3250.62635</td>\n",
       "      <td>20000.0</td>\n",
       "      <td>22814.75</td>\n",
       "      <td>25629.5</td>\n",
       "      <td>28444.25</td>\n",
       "      <td>31259.0</td>\n",
       "    </tr>\n",
       "    <tr>\n",
       "      <th>Churn</th>\n",
       "      <td>11260.0</td>\n",
       "      <td>NaN</td>\n",
       "      <td>NaN</td>\n",
       "      <td>NaN</td>\n",
       "      <td>0.168384</td>\n",
       "      <td>0.374223</td>\n",
       "      <td>0.0</td>\n",
       "      <td>0.0</td>\n",
       "      <td>0.0</td>\n",
       "      <td>0.0</td>\n",
       "      <td>1.0</td>\n",
       "    </tr>\n",
       "    <tr>\n",
       "      <th>Tenure</th>\n",
       "      <td>11260.0</td>\n",
       "      <td>38.0</td>\n",
       "      <td>1.0</td>\n",
       "      <td>1453.0</td>\n",
       "      <td>NaN</td>\n",
       "      <td>NaN</td>\n",
       "      <td>NaN</td>\n",
       "      <td>NaN</td>\n",
       "      <td>NaN</td>\n",
       "      <td>NaN</td>\n",
       "      <td>NaN</td>\n",
       "    </tr>\n",
       "    <tr>\n",
       "      <th>City_Tier</th>\n",
       "      <td>11260.0</td>\n",
       "      <td>NaN</td>\n",
       "      <td>NaN</td>\n",
       "      <td>NaN</td>\n",
       "      <td>1.647425</td>\n",
       "      <td>0.912763</td>\n",
       "      <td>1.0</td>\n",
       "      <td>1.0</td>\n",
       "      <td>1.0</td>\n",
       "      <td>3.0</td>\n",
       "      <td>3.0</td>\n",
       "    </tr>\n",
       "    <tr>\n",
       "      <th>CC_Contacted_LY</th>\n",
       "      <td>11260.0</td>\n",
       "      <td>NaN</td>\n",
       "      <td>NaN</td>\n",
       "      <td>NaN</td>\n",
       "      <td>17.850178</td>\n",
       "      <td>8.814851</td>\n",
       "      <td>4.0</td>\n",
       "      <td>11.0</td>\n",
       "      <td>16.0</td>\n",
       "      <td>23.0</td>\n",
       "      <td>132.0</td>\n",
       "    </tr>\n",
       "    <tr>\n",
       "      <th>Payment</th>\n",
       "      <td>11260</td>\n",
       "      <td>5</td>\n",
       "      <td>Debit Card</td>\n",
       "      <td>4696</td>\n",
       "      <td>NaN</td>\n",
       "      <td>NaN</td>\n",
       "      <td>NaN</td>\n",
       "      <td>NaN</td>\n",
       "      <td>NaN</td>\n",
       "      <td>NaN</td>\n",
       "      <td>NaN</td>\n",
       "    </tr>\n",
       "    <tr>\n",
       "      <th>Gender</th>\n",
       "      <td>11260</td>\n",
       "      <td>4</td>\n",
       "      <td>Male</td>\n",
       "      <td>6436</td>\n",
       "      <td>NaN</td>\n",
       "      <td>NaN</td>\n",
       "      <td>NaN</td>\n",
       "      <td>NaN</td>\n",
       "      <td>NaN</td>\n",
       "      <td>NaN</td>\n",
       "      <td>NaN</td>\n",
       "    </tr>\n",
       "    <tr>\n",
       "      <th>Service_Score</th>\n",
       "      <td>11260.0</td>\n",
       "      <td>NaN</td>\n",
       "      <td>NaN</td>\n",
       "      <td>NaN</td>\n",
       "      <td>2.903375</td>\n",
       "      <td>0.722476</td>\n",
       "      <td>0.0</td>\n",
       "      <td>2.0</td>\n",
       "      <td>3.0</td>\n",
       "      <td>3.0</td>\n",
       "      <td>5.0</td>\n",
       "    </tr>\n",
       "    <tr>\n",
       "      <th>Account_user_count</th>\n",
       "      <td>11260.0</td>\n",
       "      <td>7.0</td>\n",
       "      <td>4.0</td>\n",
       "      <td>4681.0</td>\n",
       "      <td>NaN</td>\n",
       "      <td>NaN</td>\n",
       "      <td>NaN</td>\n",
       "      <td>NaN</td>\n",
       "      <td>NaN</td>\n",
       "      <td>NaN</td>\n",
       "      <td>NaN</td>\n",
       "    </tr>\n",
       "    <tr>\n",
       "      <th>account_segment</th>\n",
       "      <td>11260</td>\n",
       "      <td>7</td>\n",
       "      <td>Super</td>\n",
       "      <td>4159</td>\n",
       "      <td>NaN</td>\n",
       "      <td>NaN</td>\n",
       "      <td>NaN</td>\n",
       "      <td>NaN</td>\n",
       "      <td>NaN</td>\n",
       "      <td>NaN</td>\n",
       "      <td>NaN</td>\n",
       "    </tr>\n",
       "    <tr>\n",
       "      <th>CC_Agent_Score</th>\n",
       "      <td>11260.0</td>\n",
       "      <td>NaN</td>\n",
       "      <td>NaN</td>\n",
       "      <td>NaN</td>\n",
       "      <td>3.065808</td>\n",
       "      <td>1.372663</td>\n",
       "      <td>1.0</td>\n",
       "      <td>2.0</td>\n",
       "      <td>3.0</td>\n",
       "      <td>4.0</td>\n",
       "      <td>5.0</td>\n",
       "    </tr>\n",
       "    <tr>\n",
       "      <th>Marital_Status</th>\n",
       "      <td>11260</td>\n",
       "      <td>3</td>\n",
       "      <td>Married</td>\n",
       "      <td>6072</td>\n",
       "      <td>NaN</td>\n",
       "      <td>NaN</td>\n",
       "      <td>NaN</td>\n",
       "      <td>NaN</td>\n",
       "      <td>NaN</td>\n",
       "      <td>NaN</td>\n",
       "      <td>NaN</td>\n",
       "    </tr>\n",
       "    <tr>\n",
       "      <th>rev_per_month</th>\n",
       "      <td>11260.0</td>\n",
       "      <td>59.0</td>\n",
       "      <td>3.0</td>\n",
       "      <td>1848.0</td>\n",
       "      <td>NaN</td>\n",
       "      <td>NaN</td>\n",
       "      <td>NaN</td>\n",
       "      <td>NaN</td>\n",
       "      <td>NaN</td>\n",
       "      <td>NaN</td>\n",
       "      <td>NaN</td>\n",
       "    </tr>\n",
       "    <tr>\n",
       "      <th>Complain_ly</th>\n",
       "      <td>11260.0</td>\n",
       "      <td>NaN</td>\n",
       "      <td>NaN</td>\n",
       "      <td>NaN</td>\n",
       "      <td>0.276288</td>\n",
       "      <td>0.447181</td>\n",
       "      <td>0.0</td>\n",
       "      <td>0.0</td>\n",
       "      <td>0.0</td>\n",
       "      <td>1.0</td>\n",
       "      <td>1.0</td>\n",
       "    </tr>\n",
       "    <tr>\n",
       "      <th>rev_growth_yoy</th>\n",
       "      <td>11260.0</td>\n",
       "      <td>20.0</td>\n",
       "      <td>14.0</td>\n",
       "      <td>1524.0</td>\n",
       "      <td>NaN</td>\n",
       "      <td>NaN</td>\n",
       "      <td>NaN</td>\n",
       "      <td>NaN</td>\n",
       "      <td>NaN</td>\n",
       "      <td>NaN</td>\n",
       "      <td>NaN</td>\n",
       "    </tr>\n",
       "    <tr>\n",
       "      <th>coupon_used_for_payment</th>\n",
       "      <td>11260.0</td>\n",
       "      <td>20.0</td>\n",
       "      <td>1.0</td>\n",
       "      <td>4373.0</td>\n",
       "      <td>NaN</td>\n",
       "      <td>NaN</td>\n",
       "      <td>NaN</td>\n",
       "      <td>NaN</td>\n",
       "      <td>NaN</td>\n",
       "      <td>NaN</td>\n",
       "      <td>NaN</td>\n",
       "    </tr>\n",
       "    <tr>\n",
       "      <th>Day_Since_CC_connect</th>\n",
       "      <td>11260.0</td>\n",
       "      <td>24.0</td>\n",
       "      <td>3.0</td>\n",
       "      <td>2173.0</td>\n",
       "      <td>NaN</td>\n",
       "      <td>NaN</td>\n",
       "      <td>NaN</td>\n",
       "      <td>NaN</td>\n",
       "      <td>NaN</td>\n",
       "      <td>NaN</td>\n",
       "      <td>NaN</td>\n",
       "    </tr>\n",
       "    <tr>\n",
       "      <th>cashback</th>\n",
       "      <td>11260.0</td>\n",
       "      <td>5693.0</td>\n",
       "      <td>155.62</td>\n",
       "      <td>481.0</td>\n",
       "      <td>NaN</td>\n",
       "      <td>NaN</td>\n",
       "      <td>NaN</td>\n",
       "      <td>NaN</td>\n",
       "      <td>NaN</td>\n",
       "      <td>NaN</td>\n",
       "      <td>NaN</td>\n",
       "    </tr>\n",
       "    <tr>\n",
       "      <th>Login_device</th>\n",
       "      <td>11260</td>\n",
       "      <td>3</td>\n",
       "      <td>Mobile</td>\n",
       "      <td>7703</td>\n",
       "      <td>NaN</td>\n",
       "      <td>NaN</td>\n",
       "      <td>NaN</td>\n",
       "      <td>NaN</td>\n",
       "      <td>NaN</td>\n",
       "      <td>NaN</td>\n",
       "      <td>NaN</td>\n",
       "    </tr>\n",
       "  </tbody>\n",
       "</table>\n",
       "</div>"
      ],
      "text/plain": [
       "                           count  unique         top    freq       mean  \\\n",
       "AccountID                11260.0     NaN         NaN     NaN    25629.5   \n",
       "Churn                    11260.0     NaN         NaN     NaN   0.168384   \n",
       "Tenure                   11260.0    38.0         1.0  1453.0        NaN   \n",
       "City_Tier                11260.0     NaN         NaN     NaN   1.647425   \n",
       "CC_Contacted_LY          11260.0     NaN         NaN     NaN  17.850178   \n",
       "Payment                    11260       5  Debit Card    4696        NaN   \n",
       "Gender                     11260       4        Male    6436        NaN   \n",
       "Service_Score            11260.0     NaN         NaN     NaN   2.903375   \n",
       "Account_user_count       11260.0     7.0         4.0  4681.0        NaN   \n",
       "account_segment            11260       7       Super    4159        NaN   \n",
       "CC_Agent_Score           11260.0     NaN         NaN     NaN   3.065808   \n",
       "Marital_Status             11260       3     Married    6072        NaN   \n",
       "rev_per_month            11260.0    59.0         3.0  1848.0        NaN   \n",
       "Complain_ly              11260.0     NaN         NaN     NaN   0.276288   \n",
       "rev_growth_yoy           11260.0    20.0        14.0  1524.0        NaN   \n",
       "coupon_used_for_payment  11260.0    20.0         1.0  4373.0        NaN   \n",
       "Day_Since_CC_connect     11260.0    24.0         3.0  2173.0        NaN   \n",
       "cashback                 11260.0  5693.0      155.62   481.0        NaN   \n",
       "Login_device               11260       3      Mobile    7703        NaN   \n",
       "\n",
       "                                std      min       25%      50%       75%  \\\n",
       "AccountID                3250.62635  20000.0  22814.75  25629.5  28444.25   \n",
       "Churn                      0.374223      0.0       0.0      0.0       0.0   \n",
       "Tenure                          NaN      NaN       NaN      NaN       NaN   \n",
       "City_Tier                  0.912763      1.0       1.0      1.0       3.0   \n",
       "CC_Contacted_LY            8.814851      4.0      11.0     16.0      23.0   \n",
       "Payment                         NaN      NaN       NaN      NaN       NaN   \n",
       "Gender                          NaN      NaN       NaN      NaN       NaN   \n",
       "Service_Score              0.722476      0.0       2.0      3.0       3.0   \n",
       "Account_user_count              NaN      NaN       NaN      NaN       NaN   \n",
       "account_segment                 NaN      NaN       NaN      NaN       NaN   \n",
       "CC_Agent_Score             1.372663      1.0       2.0      3.0       4.0   \n",
       "Marital_Status                  NaN      NaN       NaN      NaN       NaN   \n",
       "rev_per_month                   NaN      NaN       NaN      NaN       NaN   \n",
       "Complain_ly                0.447181      0.0       0.0      0.0       1.0   \n",
       "rev_growth_yoy                  NaN      NaN       NaN      NaN       NaN   \n",
       "coupon_used_for_payment         NaN      NaN       NaN      NaN       NaN   \n",
       "Day_Since_CC_connect            NaN      NaN       NaN      NaN       NaN   \n",
       "cashback                        NaN      NaN       NaN      NaN       NaN   \n",
       "Login_device                    NaN      NaN       NaN      NaN       NaN   \n",
       "\n",
       "                             max  \n",
       "AccountID                31259.0  \n",
       "Churn                        1.0  \n",
       "Tenure                       NaN  \n",
       "City_Tier                    3.0  \n",
       "CC_Contacted_LY            132.0  \n",
       "Payment                      NaN  \n",
       "Gender                       NaN  \n",
       "Service_Score                5.0  \n",
       "Account_user_count           NaN  \n",
       "account_segment              NaN  \n",
       "CC_Agent_Score               5.0  \n",
       "Marital_Status               NaN  \n",
       "rev_per_month                NaN  \n",
       "Complain_ly                  1.0  \n",
       "rev_growth_yoy               NaN  \n",
       "coupon_used_for_payment      NaN  \n",
       "Day_Since_CC_connect         NaN  \n",
       "cashback                     NaN  \n",
       "Login_device                 NaN  "
      ]
     },
     "execution_count": 14,
     "metadata": {},
     "output_type": "execute_result"
    }
   ],
   "source": [
    "df.describe(include=\"all\").T"
   ]
  },
  {
   "cell_type": "code",
   "execution_count": 15,
   "id": "790ea4e7",
   "metadata": {},
   "outputs": [
    {
     "data": {
      "image/png": "[encoded data removed]",
      "text/plain": [
       "<Figure size 1000x1000 with 2 Axes>"
      ]
     },
     "metadata": {},
     "output_type": "display_data"
    }
   ],
   "source": [
    "cm = np.corrcoef(df[numerical_features].values.T)\n",
    "\n",
    "plt.figure(figsize=(10, 10))\n",
    "hm = sns.heatmap(cm,\n",
    "                 cbar=True,\n",
    "                 annot=True,\n",
    "                 square=True,\n",
    "                 fmt='.3f',\n",
    "                 annot_kws={'size': 15},\n",
    "                 xticklabels=numerical_features,  # Set x-axis labels\n",
    "                 yticklabels=numerical_features)  # Set y-axis labels\n",
    "\n",
    "plt.xticks(rotation=45)  # Rotate x-axis labels for better readability\n",
    "plt.yticks(rotation=0)   # Keep y-axis labels horizontal\n",
    "plt.show()"
   ]
  },
  {
   "cell_type": "code",
   "execution_count": 16,
   "id": "e6fe9edb",
   "metadata": {},
   "outputs": [
    {
     "name": "stdout",
     "output_type": "stream",
     "text": [
      "TENURE :  38\n",
      "Tenure\n",
      "61       2\n",
      "50       2\n",
      "51       2\n",
      "60       2\n",
      "31      96\n",
      "29     114\n",
      "25     114\n",
      "#      116\n",
      "26     122\n",
      "99     131\n",
      "27     131\n",
      "30     137\n",
      "28     137\n",
      "24     147\n",
      "22     151\n",
      "23     169\n",
      "21     170\n",
      "17     215\n",
      "20     217\n",
      "18     253\n",
      "19     273\n",
      "16     291\n",
      "15     311\n",
      "14     345\n",
      "2      354\n",
      "13     359\n",
      "12     360\n",
      "6      363\n",
      "11     388\n",
      "4      403\n",
      "5      403\n",
      "3      410\n",
      "10     423\n",
      "7      450\n",
      "9      496\n",
      "8      519\n",
      "0     1231\n",
      "1     1453\n",
      "Name: count, dtype: int64\n",
      "\n",
      "\n",
      "PAYMENT :  5\n",
      "Payment\n",
      "UPI                  822\n",
      "Cash on Delivery    1014\n",
      "E wallet            1217\n",
      "Credit Card         3511\n",
      "Debit Card          4696\n",
      "Name: count, dtype: int64\n",
      "\n",
      "\n",
      "GENDER :  4\n",
      "Gender\n",
      "F          270\n",
      "M          376\n",
      "Female    4178\n",
      "Male      6436\n",
      "Name: count, dtype: int64\n",
      "\n",
      "\n",
      "ACCOUNT_USER_COUNT :  7\n",
      "Account_user_count\n",
      "6     315\n",
      "@     332\n",
      "1     446\n",
      "2     526\n",
      "5    1699\n",
      "3    3261\n",
      "4    4681\n",
      "Name: count, dtype: int64\n",
      "\n",
      "\n",
      "ACCOUNT_SEGMENT :  7\n",
      "account_segment\n",
      "Super +           47\n",
      "Regular +        262\n",
      "Regular          520\n",
      "Super Plus       771\n",
      "HNI             1639\n",
      "Regular Plus    3862\n",
      "Super           4159\n",
      "Name: count, dtype: int64\n",
      "\n",
      "\n",
      "MARITAL_STATUS :  3\n",
      "Marital_Status\n",
      "Divorced    1668\n",
      "Single      3520\n",
      "Married     6072\n",
      "Name: count, dtype: int64\n",
      "\n",
      "\n",
      "REV_PER_MONTH :  59\n",
      "rev_per_month\n",
      "103       1\n",
      "20        1\n",
      "23        1\n",
      "122       1\n",
      "21        1\n",
      "100       1\n",
      "25        1\n",
      "135       1\n",
      "111       1\n",
      "109       1\n",
      "104       1\n",
      "120       2\n",
      "19        2\n",
      "139       2\n",
      "114       2\n",
      "131       2\n",
      "22        2\n",
      "121       2\n",
      "105       2\n",
      "134       2\n",
      "125       2\n",
      "113       3\n",
      "130       3\n",
      "126       3\n",
      "116       3\n",
      "127       3\n",
      "108       3\n",
      "119       3\n",
      "137       3\n",
      "110       3\n",
      "138       3\n",
      "117       3\n",
      "115       3\n",
      "101       3\n",
      "129       4\n",
      "133       4\n",
      "118       4\n",
      "140       4\n",
      "136       4\n",
      "107       5\n",
      "124       5\n",
      "123       5\n",
      "102       8\n",
      "15       24\n",
      "14       48\n",
      "13       93\n",
      "12      166\n",
      "11      278\n",
      "1       402\n",
      "10      413\n",
      "9       564\n",
      "8       643\n",
      "+       689\n",
      "7       754\n",
      "6      1085\n",
      "4      1218\n",
      "5      1337\n",
      "2      1585\n",
      "3      1848\n",
      "Name: count, dtype: int64\n",
      "\n",
      "\n",
      "REV_GROWTH_YOY :  20\n",
      "rev_growth_yoy\n",
      "4        3\n",
      "$        3\n",
      "28      14\n",
      "27      35\n",
      "26      98\n",
      "25     188\n",
      "24     229\n",
      "23     345\n",
      "22     403\n",
      "21     433\n",
      "11     523\n",
      "20     562\n",
      "19     619\n",
      "17     704\n",
      "18     708\n",
      "16     949\n",
      "12    1210\n",
      "15    1283\n",
      "13    1427\n",
      "14    1524\n",
      "Name: count, dtype: int64\n",
      "\n",
      "\n",
      "COUPON_USED_FOR_PAYMENT :  20\n",
      "coupon_used_for_payment\n",
      "*        1\n",
      "#        1\n",
      "$        1\n",
      "16       4\n",
      "15       4\n",
      "14      12\n",
      "13      22\n",
      "12      26\n",
      "11      30\n",
      "9       34\n",
      "10      34\n",
      "8       88\n",
      "7      184\n",
      "6      234\n",
      "5      284\n",
      "4      424\n",
      "3      698\n",
      "0     2150\n",
      "2     2656\n",
      "1     4373\n",
      "Name: count, dtype: int64\n",
      "\n",
      "\n",
      "DAY_SINCE_CC_CONNECT :  24\n",
      "Day_Since_CC_connect\n",
      "46       1\n",
      "$        1\n",
      "47       2\n",
      "31       2\n",
      "30       2\n",
      "18      26\n",
      "16      26\n",
      "17      34\n",
      "15      37\n",
      "14      74\n",
      "13     117\n",
      "12     146\n",
      "11     183\n",
      "6      229\n",
      "10     339\n",
      "5      479\n",
      "9      622\n",
      "4      893\n",
      "7      911\n",
      "0      964\n",
      "8     1169\n",
      "1     1256\n",
      "2     1574\n",
      "3     2173\n",
      "Name: count, dtype: int64\n",
      "\n",
      "\n",
      "CASHBACK :  5693\n",
      "cashback\n",
      "191.42      1\n",
      "188.93      1\n",
      "192.42      1\n",
      "228.91      1\n",
      "156.71      1\n",
      "         ... \n",
      "145.08      9\n",
      "149.36      9\n",
      "152.28      9\n",
      "149.68      9\n",
      "155.62    481\n",
      "Name: count, Length: 5693, dtype: int64\n",
      "\n",
      "\n",
      "LOGIN_DEVICE :  3\n",
      "Login_device\n",
      "&&&&         539\n",
      "Computer    3018\n",
      "Mobile      7703\n",
      "Name: count, dtype: int64\n",
      "\n",
      "\n"
     ]
    }
   ],
   "source": [
    "for column in df.columns:\n",
    "    if df[column].dtype == 'object':\n",
    "        print(column.upper(),': ',df[column].nunique())\n",
    "        print(df[column].value_counts().sort_values())\n",
    "        print('\\n')"
   ]
  },
  {
   "cell_type": "code",
   "execution_count": 17,
   "id": "17cac73a",
   "metadata": {},
   "outputs": [
    {
     "data": {
      "image/png": "[encoded data removed]",
      "text/plain": [
       "<Figure size 1000x1000 with 1 Axes>"
      ]
     },
     "metadata": {},
     "output_type": "display_data"
    }
   ],
   "source": [
    "# construct box plot for continuous variables\n",
    "cont=df.dtypes[(df.dtypes!='uint8') & (df.dtypes!='bool')].index\n",
    "plt.figure(figsize=(10,10))\n",
    "df[cont].boxplot(vert=0)\n",
    "plt.title('With Outliers',fontsize=16)\n",
    "plt.show()"
   ]
  },
  {
   "cell_type": "code",
   "execution_count": 18,
   "id": "061ee9a3",
   "metadata": {},
   "outputs": [],
   "source": [
    "def remove_outlier(col):\n",
    "    sorted(col)\n",
    "    Q1,Q3=np.percentile(col,[25,75])\n",
    "    IQR=Q3-Q1\n",
    "    lower_range= Q1-(1.5 * IQR)\n",
    "    upper_range= Q3+(1.5 * IQR)\n",
    "    return lower_range, upper_range"
   ]
  },
  {
   "cell_type": "code",
   "execution_count": 19,
   "id": "34318f78",
   "metadata": {},
   "outputs": [],
   "source": [
    "for column in df[cont].columns:\n",
    "    lr,ur=remove_outlier(df[numerical_features])\n",
    "    df[numerical_features]=np.where(df[numerical_features]>ur,ur,df[numerical_features])\n",
    "    df[numerical_features]=np.where(df[numerical_features]<lr,lr,df[numerical_features])"
   ]
  },
  {
   "cell_type": "code",
   "execution_count": 20,
   "id": "97dd88e8",
   "metadata": {},
   "outputs": [
    {
     "data": {
      "image/png": "[encoded data removed]",
      "text/plain": [
       "<Figure size 1000x1000 with 1 Axes>"
      ]
     },
     "metadata": {},
     "output_type": "display_data"
    }
   ],
   "source": [
    "plt.figure(figsize=(10,10))\n",
    "df[cont].boxplot(vert=0)\n",
    "plt.title('After Outlier Removal',fontsize=16)\n",
    "plt.show()"
   ]
  },
  {
   "cell_type": "code",
   "execution_count": 21,
   "id": "94a121b8",
   "metadata": {},
   "outputs": [
    {
     "name": "stderr",
     "output_type": "stream",
     "text": [
      "C:\\Users\\raj28\\anaconda3\\Lib\\site-packages\\seaborn\\axisgrid.py:118: UserWarning: The figure layout has changed to tight\n",
      "  self._figure.tight_layout(*args, **kwargs)\n"
     ]
    },
    {
     "data": {
      "image/png": "[encoded data removed]",
      "text/plain": [
       "<Figure size 1750x1750 with 56 Axes>"
      ]
     },
     "metadata": {},
     "output_type": "display_data"
    }
   ],
   "source": [
    "df_attr = (df[cont])\n",
    "sns.pairplot(df_attr, diag_kind='kde')  \n",
    "plt.show()"
   ]
  },
  {
   "cell_type": "code",
   "execution_count": 22,
   "id": "ce9fc4b7",
   "metadata": {},
   "outputs": [
    {
     "name": "stdout",
     "output_type": "stream",
     "text": [
      "\n",
      "\n",
      "feature: Tenure\n",
      "[4, 0, 2, 13, 11, ..., 50, 60, 31, 51, 61]\n",
      "Length: 38\n",
      "Categories (38, object): [0, 1, 2, 3, ..., 60, 61, 99, '#']\n",
      "[ 4  0  2 13 11 37  9 36 19 20 14  8 26 18  5 30  7  1 23  3 29  6 28 24\n",
      " 25 16 10 15 22 27 12 21 17 32 34 31 33 35]\n",
      "\n",
      "\n",
      "feature: Payment\n",
      "['Debit Card', 'UPI', 'Credit Card', 'Cash on Delivery', 'E wallet']\n",
      "Categories (5, object): ['Cash on Delivery', 'Credit Card', 'Debit Card', 'E wallet', 'UPI']\n",
      "[2 4 1 0 3]\n",
      "\n",
      "\n",
      "feature: Gender\n",
      "['Female', 'Male', 'F', 'M']\n",
      "Categories (4, object): ['F', 'Female', 'M', 'Male']\n",
      "[1 3 0 2]\n",
      "\n",
      "\n",
      "feature: Account_user_count\n",
      "[3, 4, 5, 2, '@', 1, 6]\n",
      "Categories (7, object): [1, 2, 3, 4, 5, 6, '@']\n",
      "[2 3 4 1 6 0 5]\n",
      "\n",
      "\n",
      "feature: account_segment\n",
      "['Super', 'Regular Plus', 'Regular', 'HNI', 'Regular +', 'Super Plus', 'Super +']\n",
      "Categories (7, object): ['HNI', 'Regular', 'Regular +', 'Regular Plus', 'Super', 'Super +', 'Super Plus']\n",
      "[4 3 1 0 2 6 5]\n",
      "\n",
      "\n",
      "feature: Marital_Status\n",
      "['Single', 'Divorced', 'Married']\n",
      "Categories (3, object): ['Divorced', 'Married', 'Single']\n",
      "[2 0 1]\n",
      "\n",
      "\n",
      "feature: rev_per_month\n",
      "[9, 7, 6, 8, 3, ..., 135, 111, 109, 100, 103]\n",
      "Length: 59\n",
      "Categories (59, object): [1, 2, 3, 4, ..., 138, 139, 140, '+']\n",
      "[ 8  6  5  7  2  1  3  9  0  4 58 48 15 56 23 39 55 46 42 43 35 17 45 51\n",
      " 32 33 28 57 50 47 27 37 10 26 16 38 40 54 30 18 22 53 44 13 12 11 34 19\n",
      " 41 36 49 25 14 20 52 31 29 21 24]\n",
      "\n",
      "\n",
      "feature: rev_growth_yoy\n",
      "[11, 15, 14, 23, 22, ..., 26, '$', 4, 27, 28]\n",
      "Length: 20\n",
      "Categories (20, object): [4, 11, 12, 13, ..., 26, 27, 28, '$']\n",
      "[ 1  5  4 13 12  6  2  3  7  8 14  9 10 11 15 16 19  0 17 18]\n",
      "\n",
      "\n",
      "feature: coupon_used_for_payment\n",
      "[1, 0, 4, 2, 9, ..., '#', '$', 14, '*', 16]\n",
      "Length: 20\n",
      "Categories (20, object): [0, 1, 2, 3, ..., 16, '#', '$', '*']\n",
      "[ 1  0  4  2  9  6 11  7 12 10  5  3 13 15  8 17 18 14 19 16]\n",
      "\n",
      "\n",
      "feature: Day_Since_CC_connect\n",
      "[5, 0, 3, 7, 2, ..., '$', 46, 18, 31, 47]\n",
      "Length: 24\n",
      "Categories (24, object): [0, 1, 2, 3, ..., 31, 46, 47, '$']\n",
      "[ 5  0  3  7  2  1  8  6  4 15 11 10  9 13 12 17 16 14 19 23 21 18 20 22]\n",
      "\n",
      "\n",
      "feature: cashback\n",
      "[159.93, 120.9, 155.62, 134.07, 129.6, ..., 240.54, 252.31, 227.36, 226.91, 191.42]\n",
      "Length: 5693\n",
      "Categories (5693, object): [0, 2, 3, 4, ..., 1991, 1992, 1997, '$']\n",
      "[2222  109 1949 ... 4488 4481 3680]\n",
      "\n",
      "\n",
      "feature: Login_device\n",
      "['Mobile', 'Computer', '&&&&']\n",
      "Categories (3, object): ['&&&&', 'Computer', 'Mobile']\n",
      "[2 1 0]\n"
     ]
    }
   ],
   "source": [
    "for feature in df.columns: \n",
    "    if df[feature].dtype == 'object': \n",
    "        print('\\n')\n",
    "        print('feature:',feature)\n",
    "        print(pd.Categorical(df[feature].unique()))\n",
    "        print(pd.Categorical(df[feature].unique()).codes)\n",
    "        df[feature] = pd.Categorical(df[feature]).codes"
   ]
  },
  {
   "cell_type": "code",
   "execution_count": 23,
   "id": "9e52cb93",
   "metadata": {},
   "outputs": [
    {
     "data": {
      "text/html": [
       "<div>\n",
       "<style scoped>\n",
       "    .dataframe tbody tr th:only-of-type {\n",
       "        vertical-align: middle;\n",
       "    }\n",
       "\n",
       "    .dataframe tbody tr th {\n",
       "        vertical-align: top;\n",
       "    }\n",
       "\n",
       "    .dataframe thead th {\n",
       "        text-align: right;\n",
       "    }\n",
       "</style>\n",
       "<table border=\"1\" class=\"dataframe\">\n",
       "  <thead>\n",
       "    <tr style=\"text-align: right;\">\n",
       "      <th></th>\n",
       "      <th>AccountID</th>\n",
       "      <th>Churn</th>\n",
       "      <th>Tenure</th>\n",
       "      <th>City_Tier</th>\n",
       "      <th>CC_Contacted_LY</th>\n",
       "      <th>Payment</th>\n",
       "      <th>Gender</th>\n",
       "      <th>Service_Score</th>\n",
       "      <th>Account_user_count</th>\n",
       "      <th>account_segment</th>\n",
       "      <th>CC_Agent_Score</th>\n",
       "      <th>Marital_Status</th>\n",
       "      <th>rev_per_month</th>\n",
       "      <th>Complain_ly</th>\n",
       "      <th>rev_growth_yoy</th>\n",
       "      <th>coupon_used_for_payment</th>\n",
       "      <th>Day_Since_CC_connect</th>\n",
       "      <th>cashback</th>\n",
       "      <th>Login_device</th>\n",
       "    </tr>\n",
       "  </thead>\n",
       "  <tbody>\n",
       "    <tr>\n",
       "      <th>0</th>\n",
       "      <td>26.0</td>\n",
       "      <td>1.0</td>\n",
       "      <td>4</td>\n",
       "      <td>3.0</td>\n",
       "      <td>6.0</td>\n",
       "      <td>2</td>\n",
       "      <td>1</td>\n",
       "      <td>3.0</td>\n",
       "      <td>2</td>\n",
       "      <td>4</td>\n",
       "      <td>2.0</td>\n",
       "      <td>2</td>\n",
       "      <td>8</td>\n",
       "      <td>1.0</td>\n",
       "      <td>1</td>\n",
       "      <td>1</td>\n",
       "      <td>5</td>\n",
       "      <td>2222</td>\n",
       "      <td>2</td>\n",
       "    </tr>\n",
       "    <tr>\n",
       "      <th>1</th>\n",
       "      <td>26.0</td>\n",
       "      <td>1.0</td>\n",
       "      <td>0</td>\n",
       "      <td>1.0</td>\n",
       "      <td>8.0</td>\n",
       "      <td>4</td>\n",
       "      <td>3</td>\n",
       "      <td>3.0</td>\n",
       "      <td>3</td>\n",
       "      <td>3</td>\n",
       "      <td>3.0</td>\n",
       "      <td>2</td>\n",
       "      <td>6</td>\n",
       "      <td>1.0</td>\n",
       "      <td>5</td>\n",
       "      <td>0</td>\n",
       "      <td>0</td>\n",
       "      <td>109</td>\n",
       "      <td>2</td>\n",
       "    </tr>\n",
       "    <tr>\n",
       "      <th>2</th>\n",
       "      <td>26.0</td>\n",
       "      <td>1.0</td>\n",
       "      <td>0</td>\n",
       "      <td>1.0</td>\n",
       "      <td>26.0</td>\n",
       "      <td>2</td>\n",
       "      <td>3</td>\n",
       "      <td>2.0</td>\n",
       "      <td>3</td>\n",
       "      <td>3</td>\n",
       "      <td>3.0</td>\n",
       "      <td>2</td>\n",
       "      <td>5</td>\n",
       "      <td>1.0</td>\n",
       "      <td>4</td>\n",
       "      <td>0</td>\n",
       "      <td>3</td>\n",
       "      <td>1949</td>\n",
       "      <td>2</td>\n",
       "    </tr>\n",
       "    <tr>\n",
       "      <th>3</th>\n",
       "      <td>26.0</td>\n",
       "      <td>1.0</td>\n",
       "      <td>0</td>\n",
       "      <td>3.0</td>\n",
       "      <td>15.0</td>\n",
       "      <td>2</td>\n",
       "      <td>3</td>\n",
       "      <td>2.0</td>\n",
       "      <td>3</td>\n",
       "      <td>4</td>\n",
       "      <td>5.0</td>\n",
       "      <td>2</td>\n",
       "      <td>7</td>\n",
       "      <td>0.0</td>\n",
       "      <td>13</td>\n",
       "      <td>0</td>\n",
       "      <td>3</td>\n",
       "      <td>748</td>\n",
       "      <td>2</td>\n",
       "    </tr>\n",
       "    <tr>\n",
       "      <th>4</th>\n",
       "      <td>26.0</td>\n",
       "      <td>1.0</td>\n",
       "      <td>0</td>\n",
       "      <td>1.0</td>\n",
       "      <td>12.0</td>\n",
       "      <td>1</td>\n",
       "      <td>3</td>\n",
       "      <td>2.0</td>\n",
       "      <td>2</td>\n",
       "      <td>3</td>\n",
       "      <td>5.0</td>\n",
       "      <td>2</td>\n",
       "      <td>2</td>\n",
       "      <td>0.0</td>\n",
       "      <td>1</td>\n",
       "      <td>1</td>\n",
       "      <td>3</td>\n",
       "      <td>552</td>\n",
       "      <td>2</td>\n",
       "    </tr>\n",
       "    <tr>\n",
       "      <th>...</th>\n",
       "      <td>...</td>\n",
       "      <td>...</td>\n",
       "      <td>...</td>\n",
       "      <td>...</td>\n",
       "      <td>...</td>\n",
       "      <td>...</td>\n",
       "      <td>...</td>\n",
       "      <td>...</td>\n",
       "      <td>...</td>\n",
       "      <td>...</td>\n",
       "      <td>...</td>\n",
       "      <td>...</td>\n",
       "      <td>...</td>\n",
       "      <td>...</td>\n",
       "      <td>...</td>\n",
       "      <td>...</td>\n",
       "      <td>...</td>\n",
       "      <td>...</td>\n",
       "      <td>...</td>\n",
       "    </tr>\n",
       "    <tr>\n",
       "      <th>11255</th>\n",
       "      <td>26.0</td>\n",
       "      <td>0.0</td>\n",
       "      <td>10</td>\n",
       "      <td>1.0</td>\n",
       "      <td>26.0</td>\n",
       "      <td>1</td>\n",
       "      <td>3</td>\n",
       "      <td>3.0</td>\n",
       "      <td>1</td>\n",
       "      <td>4</td>\n",
       "      <td>1.0</td>\n",
       "      <td>1</td>\n",
       "      <td>8</td>\n",
       "      <td>0.0</td>\n",
       "      <td>9</td>\n",
       "      <td>1</td>\n",
       "      <td>4</td>\n",
       "      <td>1810</td>\n",
       "      <td>1</td>\n",
       "    </tr>\n",
       "    <tr>\n",
       "      <th>11256</th>\n",
       "      <td>26.0</td>\n",
       "      <td>0.0</td>\n",
       "      <td>13</td>\n",
       "      <td>1.0</td>\n",
       "      <td>19.0</td>\n",
       "      <td>1</td>\n",
       "      <td>3</td>\n",
       "      <td>3.0</td>\n",
       "      <td>4</td>\n",
       "      <td>0</td>\n",
       "      <td>5.0</td>\n",
       "      <td>1</td>\n",
       "      <td>6</td>\n",
       "      <td>0.0</td>\n",
       "      <td>6</td>\n",
       "      <td>1</td>\n",
       "      <td>8</td>\n",
       "      <td>4481</td>\n",
       "      <td>2</td>\n",
       "    </tr>\n",
       "    <tr>\n",
       "      <th>11257</th>\n",
       "      <td>26.0</td>\n",
       "      <td>0.0</td>\n",
       "      <td>1</td>\n",
       "      <td>1.0</td>\n",
       "      <td>14.0</td>\n",
       "      <td>2</td>\n",
       "      <td>3</td>\n",
       "      <td>3.0</td>\n",
       "      <td>1</td>\n",
       "      <td>4</td>\n",
       "      <td>4.0</td>\n",
       "      <td>1</td>\n",
       "      <td>6</td>\n",
       "      <td>1.0</td>\n",
       "      <td>12</td>\n",
       "      <td>1</td>\n",
       "      <td>4</td>\n",
       "      <td>3680</td>\n",
       "      <td>2</td>\n",
       "    </tr>\n",
       "    <tr>\n",
       "      <th>11258</th>\n",
       "      <td>26.0</td>\n",
       "      <td>0.0</td>\n",
       "      <td>23</td>\n",
       "      <td>3.0</td>\n",
       "      <td>11.0</td>\n",
       "      <td>1</td>\n",
       "      <td>3</td>\n",
       "      <td>4.0</td>\n",
       "      <td>4</td>\n",
       "      <td>4</td>\n",
       "      <td>4.0</td>\n",
       "      <td>1</td>\n",
       "      <td>6</td>\n",
       "      <td>0.0</td>\n",
       "      <td>6</td>\n",
       "      <td>2</td>\n",
       "      <td>9</td>\n",
       "      <td>3244</td>\n",
       "      <td>1</td>\n",
       "    </tr>\n",
       "    <tr>\n",
       "      <th>11259</th>\n",
       "      <td>26.0</td>\n",
       "      <td>0.0</td>\n",
       "      <td>8</td>\n",
       "      <td>1.0</td>\n",
       "      <td>22.0</td>\n",
       "      <td>1</td>\n",
       "      <td>3</td>\n",
       "      <td>3.0</td>\n",
       "      <td>1</td>\n",
       "      <td>4</td>\n",
       "      <td>3.0</td>\n",
       "      <td>1</td>\n",
       "      <td>4</td>\n",
       "      <td>0.0</td>\n",
       "      <td>3</td>\n",
       "      <td>2</td>\n",
       "      <td>3</td>\n",
       "      <td>3006</td>\n",
       "      <td>2</td>\n",
       "    </tr>\n",
       "  </tbody>\n",
       "</table>\n",
       "<p>11260 rows × 19 columns</p>\n",
       "</div>"
      ],
      "text/plain": [
       "       AccountID  Churn  Tenure  City_Tier  CC_Contacted_LY  Payment  Gender  \\\n",
       "0           26.0    1.0       4        3.0              6.0        2       1   \n",
       "1           26.0    1.0       0        1.0              8.0        4       3   \n",
       "2           26.0    1.0       0        1.0             26.0        2       3   \n",
       "3           26.0    1.0       0        3.0             15.0        2       3   \n",
       "4           26.0    1.0       0        1.0             12.0        1       3   \n",
       "...          ...    ...     ...        ...              ...      ...     ...   \n",
       "11255       26.0    0.0      10        1.0             26.0        1       3   \n",
       "11256       26.0    0.0      13        1.0             19.0        1       3   \n",
       "11257       26.0    0.0       1        1.0             14.0        2       3   \n",
       "11258       26.0    0.0      23        3.0             11.0        1       3   \n",
       "11259       26.0    0.0       8        1.0             22.0        1       3   \n",
       "\n",
       "       Service_Score  Account_user_count  account_segment  CC_Agent_Score  \\\n",
       "0                3.0                   2                4             2.0   \n",
       "1                3.0                   3                3             3.0   \n",
       "2                2.0                   3                3             3.0   \n",
       "3                2.0                   3                4             5.0   \n",
       "4                2.0                   2                3             5.0   \n",
       "...              ...                 ...              ...             ...   \n",
       "11255            3.0                   1                4             1.0   \n",
       "11256            3.0                   4                0             5.0   \n",
       "11257            3.0                   1                4             4.0   \n",
       "11258            4.0                   4                4             4.0   \n",
       "11259            3.0                   1                4             3.0   \n",
       "\n",
       "       Marital_Status  rev_per_month  Complain_ly  rev_growth_yoy  \\\n",
       "0                   2              8          1.0               1   \n",
       "1                   2              6          1.0               5   \n",
       "2                   2              5          1.0               4   \n",
       "3                   2              7          0.0              13   \n",
       "4                   2              2          0.0               1   \n",
       "...               ...            ...          ...             ...   \n",
       "11255               1              8          0.0               9   \n",
       "11256               1              6          0.0               6   \n",
       "11257               1              6          1.0              12   \n",
       "11258               1              6          0.0               6   \n",
       "11259               1              4          0.0               3   \n",
       "\n",
       "       coupon_used_for_payment  Day_Since_CC_connect  cashback  Login_device  \n",
       "0                            1                     5      2222             2  \n",
       "1                            0                     0       109             2  \n",
       "2                            0                     3      1949             2  \n",
       "3                            0                     3       748             2  \n",
       "4                            1                     3       552             2  \n",
       "...                        ...                   ...       ...           ...  \n",
       "11255                        1                     4      1810             1  \n",
       "11256                        1                     8      4481             2  \n",
       "11257                        1                     4      3680             2  \n",
       "11258                        2                     9      3244             1  \n",
       "11259                        2                     3      3006             2  \n",
       "\n",
       "[11260 rows x 19 columns]"
      ]
     },
     "execution_count": 23,
     "metadata": {},
     "output_type": "execute_result"
    }
   ],
   "source": [
    "df"
   ]
  },
  {
   "cell_type": "code",
   "execution_count": null,
   "id": "3cc8f788",
   "metadata": {},
   "outputs": [],
   "source": []
  },
  {
   "cell_type": "code",
   "execution_count": 24,
   "id": "9e3fb25f",
   "metadata": {},
   "outputs": [
    {
     "data": {
      "text/plain": [
       "((11260, 18), (11260,))"
      ]
     },
     "execution_count": 24,
     "metadata": {},
     "output_type": "execute_result"
    }
   ],
   "source": [
    "X = df.drop([\"Churn\"], axis=1)\n",
    "\n",
    "Y= df[\"Churn\"]\n",
    "X.shape,Y.shape"
   ]
  },
  {
   "cell_type": "code",
   "execution_count": 25,
   "id": "5fbccbe0",
   "metadata": {},
   "outputs": [],
   "source": [
    "from sklearn.model_selection import train_test_split\n",
    "X_train,X_test,Y_train,Y_test=train_test_split(X,Y,test_size=0.3,random_state=0)"
   ]
  },
  {
   "cell_type": "code",
   "execution_count": 26,
   "id": "dc774330",
   "metadata": {},
   "outputs": [],
   "source": [
    "from sklearn.preprocessing import StandardScaler\n",
    "sc=StandardScaler()\n",
    "X_train=sc.fit_transform(X_train)\n",
    "X_test=sc.transform(X_test)"
   ]
  },
  {
   "cell_type": "code",
   "execution_count": 27,
   "id": "594f1c29",
   "metadata": {},
   "outputs": [
    {
     "name": "stdout",
     "output_type": "stream",
     "text": [
      "X_train (7882, 18)\n",
      "X_test (3378, 18)\n",
      "Y_train (7882,)\n",
      "Y_test (3378,)\n"
     ]
    }
   ],
   "source": [
    "print('X_train',X_train.shape)\n",
    "print('X_test',X_test.shape)\n",
    "print('Y_train',Y_train.shape)\n",
    "print('Y_test',Y_test.shape)"
   ]
  },
  {
   "cell_type": "code",
   "execution_count": 28,
   "id": "86174601",
   "metadata": {},
   "outputs": [],
   "source": [
    "from sklearn.tree import DecisionTreeClassifier\n",
    "from sklearn.ensemble import RandomForestClassifier\n",
    "from sklearn.neural_network import MLPClassifier\n",
    "from sklearn.model_selection import GridSearchCV\n",
    "from sklearn import tree\n",
    "from sklearn.metrics import classification_report,confusion_matrix\n"
   ]
  },
  {
   "cell_type": "code",
   "execution_count": 29,
   "id": "2f79abb3",
   "metadata": {},
   "outputs": [],
   "source": [
    "param_grid = {\n",
    "    'criterion': ['gini'],\n",
    "    'max_depth': [10],\n",
    "    'min_samples_leaf': [250],\n",
    "    'min_samples_split': [750]\n",
    "}\n",
    "\n",
    "dtcl = DecisionTreeClassifier()\n",
    "\n",
    "grid_search = GridSearchCV(estimator = dtcl, param_grid = param_grid, cv = 10)"
   ]
  },
  {
   "cell_type": "code",
   "execution_count": 30,
   "id": "9a4bbbe5",
   "metadata": {},
   "outputs": [
    {
     "name": "stdout",
     "output_type": "stream",
     "text": [
      "{'criterion': 'gini', 'max_depth': 10, 'min_samples_leaf': 250, 'min_samples_split': 750}\n"
     ]
    },
    {
     "data": {
      "text/html": [
       "<style>#sk-container-id-1 {color: black;}#sk-container-id-1 pre{padding: 0;}#sk-container-id-1 div.sk-toggleable {background-color: white;}#sk-container-id-1 label.sk-toggleable__label {cursor: pointer;display: block;width: 100%;margin-bottom: 0;padding: 0.3em;box-sizing: border-box;text-align: center;}#sk-container-id-1 label.sk-toggleable__label-arrow:before {content: \"▸\";float: left;margin-right: 0.25em;color: #696969;}#sk-container-id-1 label.sk-toggleable__label-arrow:hover:before {color: black;}#sk-container-id-1 div.sk-estimator:hover label.sk-toggleable__label-arrow:before {color: black;}#sk-container-id-1 div.sk-toggleable__content {max-height: 0;max-width: 0;overflow: hidden;text-align: left;background-color: #f0f8ff;}#sk-container-id-1 div.sk-toggleable__content pre {margin: 0.2em;color: black;border-radius: 0.25em;background-color: #f0f8ff;}#sk-container-id-1 input.sk-toggleable__control:checked~div.sk-toggleable__content {max-height: 200px;max-width: 100%;overflow: auto;}#sk-container-id-1 input.sk-toggleable__control:checked~label.sk-toggleable__label-arrow:before {content: \"▾\";}#sk-container-id-1 div.sk-estimator input.sk-toggleable__control:checked~label.sk-toggleable__label {background-color: #d4ebff;}#sk-container-id-1 div.sk-label input.sk-toggleable__control:checked~label.sk-toggleable__label {background-color: #d4ebff;}#sk-container-id-1 input.sk-hidden--visually {border: 0;clip: rect(1px 1px 1px 1px);clip: rect(1px, 1px, 1px, 1px);height: 1px;margin: -1px;overflow: hidden;padding: 0;position: absolute;width: 1px;}#sk-container-id-1 div.sk-estimator {font-family: monospace;background-color: #f0f8ff;border: 1px dotted black;border-radius: 0.25em;box-sizing: border-box;margin-bottom: 0.5em;}#sk-container-id-1 div.sk-estimator:hover {background-color: #d4ebff;}#sk-container-id-1 div.sk-parallel-item::after {content: \"\";width: 100%;border-bottom: 1px solid gray;flex-grow: 1;}#sk-container-id-1 div.sk-label:hover label.sk-toggleable__label {background-color: #d4ebff;}#sk-container-id-1 div.sk-serial::before {content: \"\";position: absolute;border-left: 1px solid gray;box-sizing: border-box;top: 0;bottom: 0;left: 50%;z-index: 0;}#sk-container-id-1 div.sk-serial {display: flex;flex-direction: column;align-items: center;background-color: white;padding-right: 0.2em;padding-left: 0.2em;position: relative;}#sk-container-id-1 div.sk-item {position: relative;z-index: 1;}#sk-container-id-1 div.sk-parallel {display: flex;align-items: stretch;justify-content: center;background-color: white;position: relative;}#sk-container-id-1 div.sk-item::before, #sk-container-id-1 div.sk-parallel-item::before {content: \"\";position: absolute;border-left: 1px solid gray;box-sizing: border-box;top: 0;bottom: 0;left: 50%;z-index: -1;}#sk-container-id-1 div.sk-parallel-item {display: flex;flex-direction: column;z-index: 1;position: relative;background-color: white;}#sk-container-id-1 div.sk-parallel-item:first-child::after {align-self: flex-end;width: 50%;}#sk-container-id-1 div.sk-parallel-item:last-child::after {align-self: flex-start;width: 50%;}#sk-container-id-1 div.sk-parallel-item:only-child::after {width: 0;}#sk-container-id-1 div.sk-dashed-wrapped {border: 1px dashed gray;margin: 0 0.4em 0.5em 0.4em;box-sizing: border-box;padding-bottom: 0.4em;background-color: white;}#sk-container-id-1 div.sk-label label {font-family: monospace;font-weight: bold;display: inline-block;line-height: 1.2em;}#sk-container-id-1 div.sk-label-container {text-align: center;}#sk-container-id-1 div.sk-container {/* jupyter's `normalize.less` sets `[hidden] { display: none; }` but bootstrap.min.css set `[hidden] { display: none !important; }` so we also need the `!important` here to be able to override the default hidden behavior on the sphinx rendered scikit-learn.org. See: https://github.com/scikit-learn/scikit-learn/issues/21755 */display: inline-block !important;position: relative;}#sk-container-id-1 div.sk-text-repr-fallback {display: none;}</style><div id=\"sk-container-id-1\" class=\"sk-top-container\"><div class=\"sk-text-repr-fallback\"><pre>DecisionTreeClassifier(max_depth=10, min_samples_leaf=250,\n",
       "                       min_samples_split=750)</pre><b>In a Jupyter environment, please rerun this cell to show the HTML representation or trust the notebook. <br />On GitHub, the HTML representation is unable to render, please try loading this page with nbviewer.org.</b></div><div class=\"sk-container\" hidden><div class=\"sk-item\"><div class=\"sk-estimator sk-toggleable\"><input class=\"sk-toggleable__control sk-hidden--visually\" id=\"sk-estimator-id-1\" type=\"checkbox\" checked><label for=\"sk-estimator-id-1\" class=\"sk-toggleable__label sk-toggleable__label-arrow\">DecisionTreeClassifier</label><div class=\"sk-toggleable__content\"><pre>DecisionTreeClassifier(max_depth=10, min_samples_leaf=250,\n",
       "                       min_samples_split=750)</pre></div></div></div></div></div>"
      ],
      "text/plain": [
       "DecisionTreeClassifier(max_depth=10, min_samples_leaf=250,\n",
       "                       min_samples_split=750)"
      ]
     },
     "execution_count": 30,
     "metadata": {},
     "output_type": "execute_result"
    }
   ],
   "source": [
    "grid_search.fit(X_train, Y_train)\n",
    "print(grid_search.best_params_)\n",
    "best_grid = grid_search.best_estimator_\n",
    "best_grid"
   ]
  },
  {
   "cell_type": "code",
   "execution_count": 31,
   "id": "b629da69",
   "metadata": {},
   "outputs": [],
   "source": [
    "ytrain_predict = best_grid.predict(X_train)\n",
    "ytest_predict = best_grid.predict(X_test)"
   ]
  },
  {
   "cell_type": "code",
   "execution_count": 32,
   "id": "624a17e1",
   "metadata": {},
   "outputs": [
    {
     "data": {
      "text/html": [
       "<div>\n",
       "<style scoped>\n",
       "    .dataframe tbody tr th:only-of-type {\n",
       "        vertical-align: middle;\n",
       "    }\n",
       "\n",
       "    .dataframe tbody tr th {\n",
       "        vertical-align: top;\n",
       "    }\n",
       "\n",
       "    .dataframe thead th {\n",
       "        text-align: right;\n",
       "    }\n",
       "</style>\n",
       "<table border=\"1\" class=\"dataframe\">\n",
       "  <thead>\n",
       "    <tr style=\"text-align: right;\">\n",
       "      <th></th>\n",
       "      <th>0</th>\n",
       "      <th>1</th>\n",
       "    </tr>\n",
       "  </thead>\n",
       "  <tbody>\n",
       "    <tr>\n",
       "      <th>0</th>\n",
       "      <td>0.957792</td>\n",
       "      <td>0.042208</td>\n",
       "    </tr>\n",
       "    <tr>\n",
       "      <th>1</th>\n",
       "      <td>0.870112</td>\n",
       "      <td>0.129888</td>\n",
       "    </tr>\n",
       "    <tr>\n",
       "      <th>2</th>\n",
       "      <td>0.437173</td>\n",
       "      <td>0.562827</td>\n",
       "    </tr>\n",
       "    <tr>\n",
       "      <th>3</th>\n",
       "      <td>0.957792</td>\n",
       "      <td>0.042208</td>\n",
       "    </tr>\n",
       "    <tr>\n",
       "      <th>4</th>\n",
       "      <td>0.897106</td>\n",
       "      <td>0.102894</td>\n",
       "    </tr>\n",
       "  </tbody>\n",
       "</table>\n",
       "</div>"
      ],
      "text/plain": [
       "          0         1\n",
       "0  0.957792  0.042208\n",
       "1  0.870112  0.129888\n",
       "2  0.437173  0.562827\n",
       "3  0.957792  0.042208\n",
       "4  0.897106  0.102894"
      ]
     },
     "execution_count": 32,
     "metadata": {},
     "output_type": "execute_result"
    }
   ],
   "source": [
    "ytest_predict\n",
    "ytest_predict_prob=best_grid.predict_proba(X_test)\n",
    "ytest_predict_prob\n",
    "pd.DataFrame(ytest_predict_prob).head()"
   ]
  },
  {
   "cell_type": "code",
   "execution_count": 33,
   "id": "d9b29971",
   "metadata": {},
   "outputs": [
    {
     "data": {
      "text/plain": [
       "array([[6189,  352],\n",
       "       [ 643,  698]], dtype=int64)"
      ]
     },
     "execution_count": 33,
     "metadata": {},
     "output_type": "execute_result"
    }
   ],
   "source": [
    "confusion_matrix(Y_train, ytrain_predict)"
   ]
  },
  {
   "cell_type": "code",
   "execution_count": 34,
   "id": "2b853cc1",
   "metadata": {},
   "outputs": [
    {
     "data": {
      "text/plain": [
       "0.873763004313626"
      ]
     },
     "execution_count": 34,
     "metadata": {},
     "output_type": "execute_result"
    }
   ],
   "source": [
    "churn_train_acc=best_grid.score(X_train,Y_train) \n",
    "churn_train_acc"
   ]
  },
  {
   "cell_type": "code",
   "execution_count": 35,
   "id": "0324d1ba",
   "metadata": {},
   "outputs": [
    {
     "name": "stdout",
     "output_type": "stream",
     "text": [
      "              precision    recall  f1-score   support\n",
      "\n",
      "         0.0       0.91      0.95      0.93      6541\n",
      "         1.0       0.66      0.52      0.58      1341\n",
      "\n",
      "    accuracy                           0.87      7882\n",
      "   macro avg       0.79      0.73      0.75      7882\n",
      "weighted avg       0.86      0.87      0.87      7882\n",
      "\n"
     ]
    }
   ],
   "source": [
    "print(classification_report(Y_train, ytrain_predict))"
   ]
  },
  {
   "cell_type": "markdown",
   "id": "c93139ba",
   "metadata": {},
   "source": [
    "### on testing data"
   ]
  },
  {
   "cell_type": "code",
   "execution_count": 36,
   "id": "62200708",
   "metadata": {},
   "outputs": [
    {
     "data": {
      "text/plain": [
       "array([[2684,  139],\n",
       "       [ 250,  305]], dtype=int64)"
      ]
     },
     "execution_count": 36,
     "metadata": {},
     "output_type": "execute_result"
    }
   ],
   "source": [
    "confusion_matrix(Y_test, ytest_predict)"
   ]
  },
  {
   "cell_type": "code",
   "execution_count": 37,
   "id": "be0e9c3c",
   "metadata": {},
   "outputs": [
    {
     "data": {
      "text/plain": [
       "0.8848431024274719"
      ]
     },
     "execution_count": 37,
     "metadata": {},
     "output_type": "execute_result"
    }
   ],
   "source": [
    "#Test Data Accuracy\n",
    "churn_test_acc=best_grid.score(X_test,Y_test)\n",
    "churn_test_acc"
   ]
  },
  {
   "cell_type": "code",
   "execution_count": 38,
   "id": "1b98de83",
   "metadata": {},
   "outputs": [
    {
     "name": "stdout",
     "output_type": "stream",
     "text": [
      "              precision    recall  f1-score   support\n",
      "\n",
      "         0.0       0.91      0.95      0.93      2823\n",
      "         1.0       0.69      0.55      0.61       555\n",
      "\n",
      "    accuracy                           0.88      3378\n",
      "   macro avg       0.80      0.75      0.77      3378\n",
      "weighted avg       0.88      0.88      0.88      3378\n",
      "\n"
     ]
    }
   ],
   "source": [
    "print(classification_report(Y_test, ytest_predict))"
   ]
  },
  {
   "cell_type": "markdown",
   "id": "ae50a89b",
   "metadata": {},
   "source": [
    "## Building a Random Forest Classifier\n",
    "## Grid Search for finding out the optimal values for the hyper parameters"
   ]
  },
  {
   "cell_type": "code",
   "execution_count": 39,
   "id": "be99ab5b",
   "metadata": {},
   "outputs": [],
   "source": [
    "param_grid = {\n",
    "    'max_depth': [8,9],\n",
    "    'max_features': [8,9],\n",
    "    'min_samples_leaf': [250,150],\n",
    "    'min_samples_split': [750,500],\n",
    "    'n_estimators': [100,150]\n",
    "}\n",
    "\n",
    "rfcl = RandomForestClassifier()\n",
    "\n",
    "grid_search = GridSearchCV(estimator = rfcl, param_grid = param_grid, cv = 3)"
   ]
  },
  {
   "cell_type": "code",
   "execution_count": 40,
   "id": "d29907bb",
   "metadata": {},
   "outputs": [
    {
     "data": {
      "text/html": [
       "<style>#sk-container-id-2 {color: black;}#sk-container-id-2 pre{padding: 0;}#sk-container-id-2 div.sk-toggleable {background-color: white;}#sk-container-id-2 label.sk-toggleable__label {cursor: pointer;display: block;width: 100%;margin-bottom: 0;padding: 0.3em;box-sizing: border-box;text-align: center;}#sk-container-id-2 label.sk-toggleable__label-arrow:before {content: \"▸\";float: left;margin-right: 0.25em;color: #696969;}#sk-container-id-2 label.sk-toggleable__label-arrow:hover:before {color: black;}#sk-container-id-2 div.sk-estimator:hover label.sk-toggleable__label-arrow:before {color: black;}#sk-container-id-2 div.sk-toggleable__content {max-height: 0;max-width: 0;overflow: hidden;text-align: left;background-color: #f0f8ff;}#sk-container-id-2 div.sk-toggleable__content pre {margin: 0.2em;color: black;border-radius: 0.25em;background-color: #f0f8ff;}#sk-container-id-2 input.sk-toggleable__control:checked~div.sk-toggleable__content {max-height: 200px;max-width: 100%;overflow: auto;}#sk-container-id-2 input.sk-toggleable__control:checked~label.sk-toggleable__label-arrow:before {content: \"▾\";}#sk-container-id-2 div.sk-estimator input.sk-toggleable__control:checked~label.sk-toggleable__label {background-color: #d4ebff;}#sk-container-id-2 div.sk-label input.sk-toggleable__control:checked~label.sk-toggleable__label {background-color: #d4ebff;}#sk-container-id-2 input.sk-hidden--visually {border: 0;clip: rect(1px 1px 1px 1px);clip: rect(1px, 1px, 1px, 1px);height: 1px;margin: -1px;overflow: hidden;padding: 0;position: absolute;width: 1px;}#sk-container-id-2 div.sk-estimator {font-family: monospace;background-color: #f0f8ff;border: 1px dotted black;border-radius: 0.25em;box-sizing: border-box;margin-bottom: 0.5em;}#sk-container-id-2 div.sk-estimator:hover {background-color: #d4ebff;}#sk-container-id-2 div.sk-parallel-item::after {content: \"\";width: 100%;border-bottom: 1px solid gray;flex-grow: 1;}#sk-container-id-2 div.sk-label:hover label.sk-toggleable__label {background-color: #d4ebff;}#sk-container-id-2 div.sk-serial::before {content: \"\";position: absolute;border-left: 1px solid gray;box-sizing: border-box;top: 0;bottom: 0;left: 50%;z-index: 0;}#sk-container-id-2 div.sk-serial {display: flex;flex-direction: column;align-items: center;background-color: white;padding-right: 0.2em;padding-left: 0.2em;position: relative;}#sk-container-id-2 div.sk-item {position: relative;z-index: 1;}#sk-container-id-2 div.sk-parallel {display: flex;align-items: stretch;justify-content: center;background-color: white;position: relative;}#sk-container-id-2 div.sk-item::before, #sk-container-id-2 div.sk-parallel-item::before {content: \"\";position: absolute;border-left: 1px solid gray;box-sizing: border-box;top: 0;bottom: 0;left: 50%;z-index: -1;}#sk-container-id-2 div.sk-parallel-item {display: flex;flex-direction: column;z-index: 1;position: relative;background-color: white;}#sk-container-id-2 div.sk-parallel-item:first-child::after {align-self: flex-end;width: 50%;}#sk-container-id-2 div.sk-parallel-item:last-child::after {align-self: flex-start;width: 50%;}#sk-container-id-2 div.sk-parallel-item:only-child::after {width: 0;}#sk-container-id-2 div.sk-dashed-wrapped {border: 1px dashed gray;margin: 0 0.4em 0.5em 0.4em;box-sizing: border-box;padding-bottom: 0.4em;background-color: white;}#sk-container-id-2 div.sk-label label {font-family: monospace;font-weight: bold;display: inline-block;line-height: 1.2em;}#sk-container-id-2 div.sk-label-container {text-align: center;}#sk-container-id-2 div.sk-container {/* jupyter's `normalize.less` sets `[hidden] { display: none; }` but bootstrap.min.css set `[hidden] { display: none !important; }` so we also need the `!important` here to be able to override the default hidden behavior on the sphinx rendered scikit-learn.org. See: https://github.com/scikit-learn/scikit-learn/issues/21755 */display: inline-block !important;position: relative;}#sk-container-id-2 div.sk-text-repr-fallback {display: none;}</style><div id=\"sk-container-id-2\" class=\"sk-top-container\"><div class=\"sk-text-repr-fallback\"><pre>GridSearchCV(cv=3, estimator=RandomForestClassifier(),\n",
       "             param_grid={&#x27;max_depth&#x27;: [8, 9], &#x27;max_features&#x27;: [8, 9],\n",
       "                         &#x27;min_samples_leaf&#x27;: [250, 150],\n",
       "                         &#x27;min_samples_split&#x27;: [750, 500],\n",
       "                         &#x27;n_estimators&#x27;: [100, 150]})</pre><b>In a Jupyter environment, please rerun this cell to show the HTML representation or trust the notebook. <br />On GitHub, the HTML representation is unable to render, please try loading this page with nbviewer.org.</b></div><div class=\"sk-container\" hidden><div class=\"sk-item sk-dashed-wrapped\"><div class=\"sk-label-container\"><div class=\"sk-label sk-toggleable\"><input class=\"sk-toggleable__control sk-hidden--visually\" id=\"sk-estimator-id-2\" type=\"checkbox\" ><label for=\"sk-estimator-id-2\" class=\"sk-toggleable__label sk-toggleable__label-arrow\">GridSearchCV</label><div class=\"sk-toggleable__content\"><pre>GridSearchCV(cv=3, estimator=RandomForestClassifier(),\n",
       "             param_grid={&#x27;max_depth&#x27;: [8, 9], &#x27;max_features&#x27;: [8, 9],\n",
       "                         &#x27;min_samples_leaf&#x27;: [250, 150],\n",
       "                         &#x27;min_samples_split&#x27;: [750, 500],\n",
       "                         &#x27;n_estimators&#x27;: [100, 150]})</pre></div></div></div><div class=\"sk-parallel\"><div class=\"sk-parallel-item\"><div class=\"sk-item\"><div class=\"sk-label-container\"><div class=\"sk-label sk-toggleable\"><input class=\"sk-toggleable__control sk-hidden--visually\" id=\"sk-estimator-id-3\" type=\"checkbox\" ><label for=\"sk-estimator-id-3\" class=\"sk-toggleable__label sk-toggleable__label-arrow\">estimator: RandomForestClassifier</label><div class=\"sk-toggleable__content\"><pre>RandomForestClassifier()</pre></div></div></div><div class=\"sk-serial\"><div class=\"sk-item\"><div class=\"sk-estimator sk-toggleable\"><input class=\"sk-toggleable__control sk-hidden--visually\" id=\"sk-estimator-id-4\" type=\"checkbox\" ><label for=\"sk-estimator-id-4\" class=\"sk-toggleable__label sk-toggleable__label-arrow\">RandomForestClassifier</label><div class=\"sk-toggleable__content\"><pre>RandomForestClassifier()</pre></div></div></div></div></div></div></div></div></div></div>"
      ],
      "text/plain": [
       "GridSearchCV(cv=3, estimator=RandomForestClassifier(),\n",
       "             param_grid={'max_depth': [8, 9], 'max_features': [8, 9],\n",
       "                         'min_samples_leaf': [250, 150],\n",
       "                         'min_samples_split': [750, 500],\n",
       "                         'n_estimators': [100, 150]})"
      ]
     },
     "execution_count": 40,
     "metadata": {},
     "output_type": "execute_result"
    }
   ],
   "source": [
    "grid_search.fit(X_train, Y_train)"
   ]
  },
  {
   "cell_type": "code",
   "execution_count": 41,
   "id": "0dc4076c",
   "metadata": {},
   "outputs": [
    {
     "data": {
      "text/plain": [
       "{'max_depth': 8,\n",
       " 'max_features': 9,\n",
       " 'min_samples_leaf': 150,\n",
       " 'min_samples_split': 500,\n",
       " 'n_estimators': 100}"
      ]
     },
     "execution_count": 41,
     "metadata": {},
     "output_type": "execute_result"
    }
   ],
   "source": [
    "grid_search.best_params_"
   ]
  },
  {
   "cell_type": "code",
   "execution_count": 42,
   "id": "02e7e770",
   "metadata": {},
   "outputs": [],
   "source": [
    "best_grid = grid_search.best_estimator_"
   ]
  },
  {
   "cell_type": "code",
   "execution_count": 43,
   "id": "40b6b9c4",
   "metadata": {},
   "outputs": [
    {
     "data": {
      "text/html": [
       "<style>#sk-container-id-3 {color: black;}#sk-container-id-3 pre{padding: 0;}#sk-container-id-3 div.sk-toggleable {background-color: white;}#sk-container-id-3 label.sk-toggleable__label {cursor: pointer;display: block;width: 100%;margin-bottom: 0;padding: 0.3em;box-sizing: border-box;text-align: center;}#sk-container-id-3 label.sk-toggleable__label-arrow:before {content: \"▸\";float: left;margin-right: 0.25em;color: #696969;}#sk-container-id-3 label.sk-toggleable__label-arrow:hover:before {color: black;}#sk-container-id-3 div.sk-estimator:hover label.sk-toggleable__label-arrow:before {color: black;}#sk-container-id-3 div.sk-toggleable__content {max-height: 0;max-width: 0;overflow: hidden;text-align: left;background-color: #f0f8ff;}#sk-container-id-3 div.sk-toggleable__content pre {margin: 0.2em;color: black;border-radius: 0.25em;background-color: #f0f8ff;}#sk-container-id-3 input.sk-toggleable__control:checked~div.sk-toggleable__content {max-height: 200px;max-width: 100%;overflow: auto;}#sk-container-id-3 input.sk-toggleable__control:checked~label.sk-toggleable__label-arrow:before {content: \"▾\";}#sk-container-id-3 div.sk-estimator input.sk-toggleable__control:checked~label.sk-toggleable__label {background-color: #d4ebff;}#sk-container-id-3 div.sk-label input.sk-toggleable__control:checked~label.sk-toggleable__label {background-color: #d4ebff;}#sk-container-id-3 input.sk-hidden--visually {border: 0;clip: rect(1px 1px 1px 1px);clip: rect(1px, 1px, 1px, 1px);height: 1px;margin: -1px;overflow: hidden;padding: 0;position: absolute;width: 1px;}#sk-container-id-3 div.sk-estimator {font-family: monospace;background-color: #f0f8ff;border: 1px dotted black;border-radius: 0.25em;box-sizing: border-box;margin-bottom: 0.5em;}#sk-container-id-3 div.sk-estimator:hover {background-color: #d4ebff;}#sk-container-id-3 div.sk-parallel-item::after {content: \"\";width: 100%;border-bottom: 1px solid gray;flex-grow: 1;}#sk-container-id-3 div.sk-label:hover label.sk-toggleable__label {background-color: #d4ebff;}#sk-container-id-3 div.sk-serial::before {content: \"\";position: absolute;border-left: 1px solid gray;box-sizing: border-box;top: 0;bottom: 0;left: 50%;z-index: 0;}#sk-container-id-3 div.sk-serial {display: flex;flex-direction: column;align-items: center;background-color: white;padding-right: 0.2em;padding-left: 0.2em;position: relative;}#sk-container-id-3 div.sk-item {position: relative;z-index: 1;}#sk-container-id-3 div.sk-parallel {display: flex;align-items: stretch;justify-content: center;background-color: white;position: relative;}#sk-container-id-3 div.sk-item::before, #sk-container-id-3 div.sk-parallel-item::before {content: \"\";position: absolute;border-left: 1px solid gray;box-sizing: border-box;top: 0;bottom: 0;left: 50%;z-index: -1;}#sk-container-id-3 div.sk-parallel-item {display: flex;flex-direction: column;z-index: 1;position: relative;background-color: white;}#sk-container-id-3 div.sk-parallel-item:first-child::after {align-self: flex-end;width: 50%;}#sk-container-id-3 div.sk-parallel-item:last-child::after {align-self: flex-start;width: 50%;}#sk-container-id-3 div.sk-parallel-item:only-child::after {width: 0;}#sk-container-id-3 div.sk-dashed-wrapped {border: 1px dashed gray;margin: 0 0.4em 0.5em 0.4em;box-sizing: border-box;padding-bottom: 0.4em;background-color: white;}#sk-container-id-3 div.sk-label label {font-family: monospace;font-weight: bold;display: inline-block;line-height: 1.2em;}#sk-container-id-3 div.sk-label-container {text-align: center;}#sk-container-id-3 div.sk-container {/* jupyter's `normalize.less` sets `[hidden] { display: none; }` but bootstrap.min.css set `[hidden] { display: none !important; }` so we also need the `!important` here to be able to override the default hidden behavior on the sphinx rendered scikit-learn.org. See: https://github.com/scikit-learn/scikit-learn/issues/21755 */display: inline-block !important;position: relative;}#sk-container-id-3 div.sk-text-repr-fallback {display: none;}</style><div id=\"sk-container-id-3\" class=\"sk-top-container\"><div class=\"sk-text-repr-fallback\"><pre>RandomForestClassifier(max_depth=8, max_features=9, min_samples_leaf=150,\n",
       "                       min_samples_split=500)</pre><b>In a Jupyter environment, please rerun this cell to show the HTML representation or trust the notebook. <br />On GitHub, the HTML representation is unable to render, please try loading this page with nbviewer.org.</b></div><div class=\"sk-container\" hidden><div class=\"sk-item\"><div class=\"sk-estimator sk-toggleable\"><input class=\"sk-toggleable__control sk-hidden--visually\" id=\"sk-estimator-id-5\" type=\"checkbox\" checked><label for=\"sk-estimator-id-5\" class=\"sk-toggleable__label sk-toggleable__label-arrow\">RandomForestClassifier</label><div class=\"sk-toggleable__content\"><pre>RandomForestClassifier(max_depth=8, max_features=9, min_samples_leaf=150,\n",
       "                       min_samples_split=500)</pre></div></div></div></div></div>"
      ],
      "text/plain": [
       "RandomForestClassifier(max_depth=8, max_features=9, min_samples_leaf=150,\n",
       "                       min_samples_split=500)"
      ]
     },
     "execution_count": 43,
     "metadata": {},
     "output_type": "execute_result"
    }
   ],
   "source": [
    "best_grid"
   ]
  },
  {
   "cell_type": "code",
   "execution_count": 44,
   "id": "09413fbc",
   "metadata": {},
   "outputs": [],
   "source": [
    "ytrain_predict = best_grid.predict(X_train)\n",
    "ytest_predict = best_grid.predict(X_test)"
   ]
  },
  {
   "cell_type": "code",
   "execution_count": 45,
   "id": "008cd2e4",
   "metadata": {},
   "outputs": [
    {
     "data": {
      "text/plain": [
       "array([[6267,  274],\n",
       "       [ 688,  653]], dtype=int64)"
      ]
     },
     "execution_count": 45,
     "metadata": {},
     "output_type": "execute_result"
    }
   ],
   "source": [
    "confusion_matrix(Y_train,ytrain_predict)"
   ]
  },
  {
   "cell_type": "code",
   "execution_count": 46,
   "id": "df065c3e",
   "metadata": {},
   "outputs": [
    {
     "data": {
      "text/plain": [
       "0.8779497589444304"
      ]
     },
     "execution_count": 46,
     "metadata": {},
     "output_type": "execute_result"
    }
   ],
   "source": [
    "rf_train_acc=best_grid.score(X_train,Y_train) \n",
    "rf_train_acc"
   ]
  },
  {
   "cell_type": "code",
   "execution_count": 47,
   "id": "8bc11e09",
   "metadata": {},
   "outputs": [
    {
     "name": "stdout",
     "output_type": "stream",
     "text": [
      "              precision    recall  f1-score   support\n",
      "\n",
      "         0.0       0.90      0.96      0.93      6541\n",
      "         1.0       0.70      0.49      0.58      1341\n",
      "\n",
      "    accuracy                           0.88      7882\n",
      "   macro avg       0.80      0.72      0.75      7882\n",
      "weighted avg       0.87      0.88      0.87      7882\n",
      "\n"
     ]
    }
   ],
   "source": [
    "print(classification_report(Y_train,ytrain_predict))"
   ]
  },
  {
   "cell_type": "code",
   "execution_count": 48,
   "id": "3237652f",
   "metadata": {},
   "outputs": [
    {
     "data": {
      "text/plain": [
       "0.8910597986974541"
      ]
     },
     "execution_count": 48,
     "metadata": {},
     "output_type": "execute_result"
    }
   ],
   "source": [
    "rf_test_acc=best_grid.score(X_test,Y_test)\n",
    "rf_test_acc"
   ]
  },
  {
   "cell_type": "code",
   "execution_count": 49,
   "id": "b1264415",
   "metadata": {},
   "outputs": [
    {
     "name": "stdout",
     "output_type": "stream",
     "text": [
      "              precision    recall  f1-score   support\n",
      "\n",
      "         0.0       0.91      0.96      0.94      2823\n",
      "         1.0       0.73      0.53      0.62       555\n",
      "\n",
      "    accuracy                           0.89      3378\n",
      "   macro avg       0.82      0.75      0.78      3378\n",
      "weighted avg       0.88      0.89      0.88      3378\n",
      "\n"
     ]
    }
   ],
   "source": [
    "print(classification_report(Y_test,ytest_predict))"
   ]
  },
  {
   "cell_type": "markdown",
   "id": "4f502f63",
   "metadata": {},
   "source": [
    "## neural network"
   ]
  },
  {
   "cell_type": "code",
   "execution_count": 50,
   "id": "a600684e",
   "metadata": {},
   "outputs": [],
   "source": [
    "from sklearn.preprocessing import StandardScaler\n",
    "sc = StandardScaler()\n",
    "X_train_scaled = sc.fit_transform(X_train)\n",
    "X_test_scaled = sc.transform(X_test)"
   ]
  },
  {
   "cell_type": "code",
   "execution_count": 51,
   "id": "a21789d0",
   "metadata": {},
   "outputs": [],
   "source": [
    "param_grid = {\n",
    "    'hidden_layer_sizes': [64,128],\n",
    "    'max_iter': [100,200,300],\n",
    "    'solver': ['adam','sgd'], \n",
    "}\n",
    "\n",
    "nncl = MLPClassifier(tol = 0.01)\n",
    "\n",
    "grid_search = GridSearchCV(estimator = nncl, param_grid = param_grid, cv = 3)"
   ]
  },
  {
   "cell_type": "code",
   "execution_count": 52,
   "id": "44c2219d",
   "metadata": {},
   "outputs": [
    {
     "data": {
      "text/plain": [
       "{'hidden_layer_sizes': 128, 'max_iter': 200, 'solver': 'adam'}"
      ]
     },
     "execution_count": 52,
     "metadata": {},
     "output_type": "execute_result"
    }
   ],
   "source": [
    "grid_search.fit(X_train_scaled, Y_train)\n",
    "grid_search.best_params_"
   ]
  },
  {
   "cell_type": "code",
   "execution_count": 53,
   "id": "29208f07",
   "metadata": {},
   "outputs": [
    {
     "data": {
      "text/html": [
       "<style>#sk-container-id-4 {color: black;}#sk-container-id-4 pre{padding: 0;}#sk-container-id-4 div.sk-toggleable {background-color: white;}#sk-container-id-4 label.sk-toggleable__label {cursor: pointer;display: block;width: 100%;margin-bottom: 0;padding: 0.3em;box-sizing: border-box;text-align: center;}#sk-container-id-4 label.sk-toggleable__label-arrow:before {content: \"▸\";float: left;margin-right: 0.25em;color: #696969;}#sk-container-id-4 label.sk-toggleable__label-arrow:hover:before {color: black;}#sk-container-id-4 div.sk-estimator:hover label.sk-toggleable__label-arrow:before {color: black;}#sk-container-id-4 div.sk-toggleable__content {max-height: 0;max-width: 0;overflow: hidden;text-align: left;background-color: #f0f8ff;}#sk-container-id-4 div.sk-toggleable__content pre {margin: 0.2em;color: black;border-radius: 0.25em;background-color: #f0f8ff;}#sk-container-id-4 input.sk-toggleable__control:checked~div.sk-toggleable__content {max-height: 200px;max-width: 100%;overflow: auto;}#sk-container-id-4 input.sk-toggleable__control:checked~label.sk-toggleable__label-arrow:before {content: \"▾\";}#sk-container-id-4 div.sk-estimator input.sk-toggleable__control:checked~label.sk-toggleable__label {background-color: #d4ebff;}#sk-container-id-4 div.sk-label input.sk-toggleable__control:checked~label.sk-toggleable__label {background-color: #d4ebff;}#sk-container-id-4 input.sk-hidden--visually {border: 0;clip: rect(1px 1px 1px 1px);clip: rect(1px, 1px, 1px, 1px);height: 1px;margin: -1px;overflow: hidden;padding: 0;position: absolute;width: 1px;}#sk-container-id-4 div.sk-estimator {font-family: monospace;background-color: #f0f8ff;border: 1px dotted black;border-radius: 0.25em;box-sizing: border-box;margin-bottom: 0.5em;}#sk-container-id-4 div.sk-estimator:hover {background-color: #d4ebff;}#sk-container-id-4 div.sk-parallel-item::after {content: \"\";width: 100%;border-bottom: 1px solid gray;flex-grow: 1;}#sk-container-id-4 div.sk-label:hover label.sk-toggleable__label {background-color: #d4ebff;}#sk-container-id-4 div.sk-serial::before {content: \"\";position: absolute;border-left: 1px solid gray;box-sizing: border-box;top: 0;bottom: 0;left: 50%;z-index: 0;}#sk-container-id-4 div.sk-serial {display: flex;flex-direction: column;align-items: center;background-color: white;padding-right: 0.2em;padding-left: 0.2em;position: relative;}#sk-container-id-4 div.sk-item {position: relative;z-index: 1;}#sk-container-id-4 div.sk-parallel {display: flex;align-items: stretch;justify-content: center;background-color: white;position: relative;}#sk-container-id-4 div.sk-item::before, #sk-container-id-4 div.sk-parallel-item::before {content: \"\";position: absolute;border-left: 1px solid gray;box-sizing: border-box;top: 0;bottom: 0;left: 50%;z-index: -1;}#sk-container-id-4 div.sk-parallel-item {display: flex;flex-direction: column;z-index: 1;position: relative;background-color: white;}#sk-container-id-4 div.sk-parallel-item:first-child::after {align-self: flex-end;width: 50%;}#sk-container-id-4 div.sk-parallel-item:last-child::after {align-self: flex-start;width: 50%;}#sk-container-id-4 div.sk-parallel-item:only-child::after {width: 0;}#sk-container-id-4 div.sk-dashed-wrapped {border: 1px dashed gray;margin: 0 0.4em 0.5em 0.4em;box-sizing: border-box;padding-bottom: 0.4em;background-color: white;}#sk-container-id-4 div.sk-label label {font-family: monospace;font-weight: bold;display: inline-block;line-height: 1.2em;}#sk-container-id-4 div.sk-label-container {text-align: center;}#sk-container-id-4 div.sk-container {/* jupyter's `normalize.less` sets `[hidden] { display: none; }` but bootstrap.min.css set `[hidden] { display: none !important; }` so we also need the `!important` here to be able to override the default hidden behavior on the sphinx rendered scikit-learn.org. See: https://github.com/scikit-learn/scikit-learn/issues/21755 */display: inline-block !important;position: relative;}#sk-container-id-4 div.sk-text-repr-fallback {display: none;}</style><div id=\"sk-container-id-4\" class=\"sk-top-container\"><div class=\"sk-text-repr-fallback\"><pre>MLPClassifier(hidden_layer_sizes=128, tol=0.01)</pre><b>In a Jupyter environment, please rerun this cell to show the HTML representation or trust the notebook. <br />On GitHub, the HTML representation is unable to render, please try loading this page with nbviewer.org.</b></div><div class=\"sk-container\" hidden><div class=\"sk-item\"><div class=\"sk-estimator sk-toggleable\"><input class=\"sk-toggleable__control sk-hidden--visually\" id=\"sk-estimator-id-6\" type=\"checkbox\" checked><label for=\"sk-estimator-id-6\" class=\"sk-toggleable__label sk-toggleable__label-arrow\">MLPClassifier</label><div class=\"sk-toggleable__content\"><pre>MLPClassifier(hidden_layer_sizes=128, tol=0.01)</pre></div></div></div></div></div>"
      ],
      "text/plain": [
       "MLPClassifier(hidden_layer_sizes=128, tol=0.01)"
      ]
     },
     "execution_count": 53,
     "metadata": {},
     "output_type": "execute_result"
    }
   ],
   "source": [
    "best_grid = grid_search.best_estimator_\n",
    "best_grid"
   ]
  },
  {
   "cell_type": "code",
   "execution_count": 54,
   "id": "c40bc1f3",
   "metadata": {},
   "outputs": [],
   "source": [
    "ytrain_predict = best_grid.predict(X_train_scaled)\n",
    "ytest_predict = best_grid.predict(X_test_scaled)"
   ]
  },
  {
   "cell_type": "code",
   "execution_count": 55,
   "id": "de737e2a",
   "metadata": {},
   "outputs": [
    {
     "data": {
      "text/plain": [
       "array([[6338,  203],\n",
       "       [ 608,  733]], dtype=int64)"
      ]
     },
     "execution_count": 55,
     "metadata": {},
     "output_type": "execute_result"
    }
   ],
   "source": [
    "confusion_matrix(Y_train,ytrain_predict)"
   ]
  },
  {
   "cell_type": "code",
   "execution_count": 56,
   "id": "823743b1",
   "metadata": {},
   "outputs": [
    {
     "data": {
      "text/plain": [
       "0.8971073331641716"
      ]
     },
     "execution_count": 56,
     "metadata": {},
     "output_type": "execute_result"
    }
   ],
   "source": [
    "nn_train_acc=best_grid.score(X_train_scaled,Y_train) \n",
    "nn_train_acc"
   ]
  },
  {
   "cell_type": "code",
   "execution_count": 57,
   "id": "ae813138",
   "metadata": {},
   "outputs": [
    {
     "name": "stdout",
     "output_type": "stream",
     "text": [
      "              precision    recall  f1-score   support\n",
      "\n",
      "         0.0       0.91      0.97      0.94      6541\n",
      "         1.0       0.78      0.55      0.64      1341\n",
      "\n",
      "    accuracy                           0.90      7882\n",
      "   macro avg       0.85      0.76      0.79      7882\n",
      "weighted avg       0.89      0.90      0.89      7882\n",
      "\n"
     ]
    }
   ],
   "source": [
    "print(classification_report(Y_train,ytrain_predict))"
   ]
  },
  {
   "cell_type": "code",
   "execution_count": 58,
   "id": "7264265e",
   "metadata": {},
   "outputs": [
    {
     "data": {
      "text/plain": [
       "0.903789224393132"
      ]
     },
     "execution_count": 58,
     "metadata": {},
     "output_type": "execute_result"
    }
   ],
   "source": [
    "nn_test_acc=best_grid.score(X_test_scaled,Y_test)\n",
    "nn_test_acc"
   ]
  },
  {
   "cell_type": "code",
   "execution_count": 59,
   "id": "da15dfee",
   "metadata": {},
   "outputs": [
    {
     "data": {
      "text/plain": [
       "<bound method ClassifierMixin.score of MLPClassifier(hidden_layer_sizes=128, tol=0.01)>"
      ]
     },
     "execution_count": 59,
     "metadata": {},
     "output_type": "execute_result"
    }
   ],
   "source": [
    "best_grid.score"
   ]
  },
  {
   "cell_type": "code",
   "execution_count": null,
   "id": "ad335e8c",
   "metadata": {},
   "outputs": [],
   "source": []
  },
  {
   "cell_type": "code",
   "execution_count": 60,
   "id": "e477e04a",
   "metadata": {},
   "outputs": [
    {
     "data": {
      "text/plain": [
       "['model.sav']"
      ]
     },
     "execution_count": 60,
     "metadata": {},
     "output_type": "execute_result"
    }
   ],
   "source": [
    "import joblib\n",
    "#Sava the model to disk\n",
    "filename = 'model.sav'\n",
    "joblib.dump(nn_test_acc, filename)"
   ]
  }
 ],
 "metadata": {
  "kernelspec": {
   "display_name": "Python 3 (ipykernel)",
   "language": "python",
   "name": "python3"
  },
  "language_info": {
   "codemirror_mode": {
    "name": "ipython",
    "version": 3
   },
   "file_extension": ".py",
   "mimetype": "text/x-python",
   "name": "python",
   "nbconvert_exporter": "python",
   "pygments_lexer": "ipython3",
   "version": "3.11.5"
  }
 },
 "nbformat": 4,
 "nbformat_minor": 5
}
